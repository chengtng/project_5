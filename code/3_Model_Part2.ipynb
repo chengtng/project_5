{
 "cells": [
  {
   "cell_type": "markdown",
   "id": "8304e1c8-28a6-4bc6-9751-5bb4f001531f",
   "metadata": {},
   "source": [
    "## Model \n",
    "* Neural Network"
   ]
  },
  {
   "cell_type": "code",
   "execution_count": 1,
   "id": "f7014258-c042-4ad0-808a-bac7207ffc8b",
   "metadata": {},
   "outputs": [],
   "source": [
    "import warnings\n",
    "import pandas as pd\n",
    "import numpy as np\n",
    "import seaborn as sns\n",
    "import matplotlib.pyplot as plt\n",
    "import datetime as dt\n",
    "import matplotlib.patches as mpatches\n",
    "from matplotlib.colors import ListedColormap\n",
    "\n",
    "from sklearn.compose import ColumnTransformer\n",
    "from sklearn.pipeline import Pipeline\n",
    "from sklearn.impute import SimpleImputer\n",
    "from sklearn.preprocessing import StandardScaler, OneHotEncoder\n",
    "from sklearn.model_selection import train_test_split, GridSearchCV, RandomizedSearchCV,cross_val_score\n",
    "from sklearn.feature_selection import SelectPercentile, chi2\n",
    "from sklearn.metrics import confusion_matrix, plot_confusion_matrix, mean_squared_error, mean_absolute_percentage_error, accuracy_score\n",
    "from sklearn.metrics import multilabel_confusion_matrix\n",
    "from sklearn.metrics import classification_report\n",
    "\n",
    "from tensorflow.keras.models import Sequential\n",
    "from tensorflow.keras.layers import Dense, Input, Dropout,LayerNormalization,Normalization\n",
    "from tensorflow.keras import utils as np_utils\n",
    "from keras.wrappers.scikit_learn import KerasClassifier\n",
    "from tensorflow.keras import backend as K\n",
    "\n",
    "sns.set_style('whitegrid') # set style for visualization\n",
    "warnings.filterwarnings('ignore')"
   ]
  },
  {
   "cell_type": "code",
   "execution_count": 2,
   "id": "a9b1aea2-5182-44da-954c-d0317d468a9d",
   "metadata": {},
   "outputs": [
    {
     "data": {
      "text/html": [
       "<div>\n",
       "<style scoped>\n",
       "    .dataframe tbody tr th:only-of-type {\n",
       "        vertical-align: middle;\n",
       "    }\n",
       "\n",
       "    .dataframe tbody tr th {\n",
       "        vertical-align: top;\n",
       "    }\n",
       "\n",
       "    .dataframe thead th {\n",
       "        text-align: right;\n",
       "    }\n",
       "</style>\n",
       "<table border=\"1\" class=\"dataframe\">\n",
       "  <thead>\n",
       "    <tr style=\"text-align: right;\">\n",
       "      <th></th>\n",
       "      <th>SUBJECT_ID</th>\n",
       "      <th>SESSION_ID</th>\n",
       "      <th>TRIAL_ID</th>\n",
       "      <th>c_ml_min_r</th>\n",
       "      <th>c_ml_max_r</th>\n",
       "      <th>c_ml_min_l</th>\n",
       "      <th>c_ml_max_l</th>\n",
       "      <th>c_ap_slope_r</th>\n",
       "      <th>c_ap_slope_l</th>\n",
       "      <th>g_ml_max1_r</th>\n",
       "      <th>...</th>\n",
       "      <th>g_ap_max_l</th>\n",
       "      <th>g_v_max1_r</th>\n",
       "      <th>g_v_min_r</th>\n",
       "      <th>g_v_max2_r</th>\n",
       "      <th>g_v_max1_l</th>\n",
       "      <th>g_v_min_l</th>\n",
       "      <th>g_v_max2_l</th>\n",
       "      <th>AGE</th>\n",
       "      <th>BMI</th>\n",
       "      <th>CLASS_LABEL</th>\n",
       "    </tr>\n",
       "  </thead>\n",
       "  <tbody>\n",
       "    <tr>\n",
       "      <th>0</th>\n",
       "      <td>510</td>\n",
       "      <td>413</td>\n",
       "      <td>1</td>\n",
       "      <td>0.087271</td>\n",
       "      <td>0.118247</td>\n",
       "      <td>0.087814</td>\n",
       "      <td>0.128115</td>\n",
       "      <td>0.001718</td>\n",
       "      <td>0.002493</td>\n",
       "      <td>0.072643</td>\n",
       "      <td>...</td>\n",
       "      <td>0.130772</td>\n",
       "      <td>1.035925</td>\n",
       "      <td>0.818121</td>\n",
       "      <td>0.987930</td>\n",
       "      <td>1.083287</td>\n",
       "      <td>0.796622</td>\n",
       "      <td>1.003385</td>\n",
       "      <td>47</td>\n",
       "      <td>35.538442</td>\n",
       "      <td>C</td>\n",
       "    </tr>\n",
       "    <tr>\n",
       "      <th>1</th>\n",
       "      <td>510</td>\n",
       "      <td>413</td>\n",
       "      <td>2</td>\n",
       "      <td>0.085806</td>\n",
       "      <td>0.128396</td>\n",
       "      <td>0.040212</td>\n",
       "      <td>0.083074</td>\n",
       "      <td>0.001589</td>\n",
       "      <td>0.001834</td>\n",
       "      <td>0.072360</td>\n",
       "      <td>...</td>\n",
       "      <td>0.136687</td>\n",
       "      <td>1.009803</td>\n",
       "      <td>0.819649</td>\n",
       "      <td>0.991990</td>\n",
       "      <td>1.018526</td>\n",
       "      <td>0.837006</td>\n",
       "      <td>0.999401</td>\n",
       "      <td>47</td>\n",
       "      <td>35.538442</td>\n",
       "      <td>C</td>\n",
       "    </tr>\n",
       "    <tr>\n",
       "      <th>2</th>\n",
       "      <td>510</td>\n",
       "      <td>413</td>\n",
       "      <td>3</td>\n",
       "      <td>0.073788</td>\n",
       "      <td>0.112735</td>\n",
       "      <td>0.049990</td>\n",
       "      <td>0.099952</td>\n",
       "      <td>0.001740</td>\n",
       "      <td>0.001734</td>\n",
       "      <td>0.059417</td>\n",
       "      <td>...</td>\n",
       "      <td>0.143187</td>\n",
       "      <td>1.010970</td>\n",
       "      <td>0.823223</td>\n",
       "      <td>0.989883</td>\n",
       "      <td>1.049092</td>\n",
       "      <td>0.815221</td>\n",
       "      <td>1.003578</td>\n",
       "      <td>47</td>\n",
       "      <td>35.538442</td>\n",
       "      <td>C</td>\n",
       "    </tr>\n",
       "    <tr>\n",
       "      <th>3</th>\n",
       "      <td>510</td>\n",
       "      <td>413</td>\n",
       "      <td>4</td>\n",
       "      <td>0.056216</td>\n",
       "      <td>0.102832</td>\n",
       "      <td>0.086729</td>\n",
       "      <td>0.127982</td>\n",
       "      <td>0.001919</td>\n",
       "      <td>0.001361</td>\n",
       "      <td>0.079792</td>\n",
       "      <td>...</td>\n",
       "      <td>0.155758</td>\n",
       "      <td>1.047625</td>\n",
       "      <td>0.797822</td>\n",
       "      <td>1.005463</td>\n",
       "      <td>1.118118</td>\n",
       "      <td>0.773203</td>\n",
       "      <td>1.021851</td>\n",
       "      <td>47</td>\n",
       "      <td>35.538442</td>\n",
       "      <td>C</td>\n",
       "    </tr>\n",
       "    <tr>\n",
       "      <th>4</th>\n",
       "      <td>510</td>\n",
       "      <td>413</td>\n",
       "      <td>6</td>\n",
       "      <td>0.064922</td>\n",
       "      <td>0.102404</td>\n",
       "      <td>0.000573</td>\n",
       "      <td>0.052266</td>\n",
       "      <td>0.001837</td>\n",
       "      <td>0.002049</td>\n",
       "      <td>0.059537</td>\n",
       "      <td>...</td>\n",
       "      <td>0.140561</td>\n",
       "      <td>1.044787</td>\n",
       "      <td>0.780821</td>\n",
       "      <td>1.009273</td>\n",
       "      <td>1.084354</td>\n",
       "      <td>0.820851</td>\n",
       "      <td>1.027245</td>\n",
       "      <td>47</td>\n",
       "      <td>35.538442</td>\n",
       "      <td>C</td>\n",
       "    </tr>\n",
       "    <tr>\n",
       "      <th>...</th>\n",
       "      <td>...</td>\n",
       "      <td>...</td>\n",
       "      <td>...</td>\n",
       "      <td>...</td>\n",
       "      <td>...</td>\n",
       "      <td>...</td>\n",
       "      <td>...</td>\n",
       "      <td>...</td>\n",
       "      <td>...</td>\n",
       "      <td>...</td>\n",
       "      <td>...</td>\n",
       "      <td>...</td>\n",
       "      <td>...</td>\n",
       "      <td>...</td>\n",
       "      <td>...</td>\n",
       "      <td>...</td>\n",
       "      <td>...</td>\n",
       "      <td>...</td>\n",
       "      <td>...</td>\n",
       "      <td>...</td>\n",
       "      <td>...</td>\n",
       "    </tr>\n",
       "    <tr>\n",
       "      <th>75727</th>\n",
       "      <td>93</td>\n",
       "      <td>999910375</td>\n",
       "      <td>6</td>\n",
       "      <td>0.057389</td>\n",
       "      <td>0.081491</td>\n",
       "      <td>-0.007720</td>\n",
       "      <td>-0.005253</td>\n",
       "      <td>0.001445</td>\n",
       "      <td>0.000769</td>\n",
       "      <td>0.027693</td>\n",
       "      <td>...</td>\n",
       "      <td>0.296245</td>\n",
       "      <td>1.227360</td>\n",
       "      <td>0.635865</td>\n",
       "      <td>1.188197</td>\n",
       "      <td>1.210305</td>\n",
       "      <td>0.600266</td>\n",
       "      <td>0.862586</td>\n",
       "      <td>53</td>\n",
       "      <td>21.588183</td>\n",
       "      <td>HC</td>\n",
       "    </tr>\n",
       "    <tr>\n",
       "      <th>75728</th>\n",
       "      <td>93</td>\n",
       "      <td>999910375</td>\n",
       "      <td>7</td>\n",
       "      <td>0.060523</td>\n",
       "      <td>0.065029</td>\n",
       "      <td>0.077223</td>\n",
       "      <td>0.107414</td>\n",
       "      <td>0.001117</td>\n",
       "      <td>0.001277</td>\n",
       "      <td>0.069434</td>\n",
       "      <td>...</td>\n",
       "      <td>0.313936</td>\n",
       "      <td>1.360617</td>\n",
       "      <td>0.653168</td>\n",
       "      <td>1.074324</td>\n",
       "      <td>1.195931</td>\n",
       "      <td>0.691509</td>\n",
       "      <td>1.105625</td>\n",
       "      <td>53</td>\n",
       "      <td>21.588183</td>\n",
       "      <td>HC</td>\n",
       "    </tr>\n",
       "    <tr>\n",
       "      <th>75729</th>\n",
       "      <td>93</td>\n",
       "      <td>999910375</td>\n",
       "      <td>9</td>\n",
       "      <td>0.068348</td>\n",
       "      <td>0.103938</td>\n",
       "      <td>0.014182</td>\n",
       "      <td>0.031058</td>\n",
       "      <td>0.001457</td>\n",
       "      <td>0.001514</td>\n",
       "      <td>0.042854</td>\n",
       "      <td>...</td>\n",
       "      <td>0.317704</td>\n",
       "      <td>1.220940</td>\n",
       "      <td>0.697688</td>\n",
       "      <td>1.129716</td>\n",
       "      <td>1.132665</td>\n",
       "      <td>0.683090</td>\n",
       "      <td>1.187864</td>\n",
       "      <td>53</td>\n",
       "      <td>21.588183</td>\n",
       "      <td>HC</td>\n",
       "    </tr>\n",
       "    <tr>\n",
       "      <th>75730</th>\n",
       "      <td>93</td>\n",
       "      <td>999910375</td>\n",
       "      <td>10</td>\n",
       "      <td>0.032184</td>\n",
       "      <td>0.046935</td>\n",
       "      <td>-0.001137</td>\n",
       "      <td>0.021139</td>\n",
       "      <td>0.001090</td>\n",
       "      <td>0.001431</td>\n",
       "      <td>0.048381</td>\n",
       "      <td>...</td>\n",
       "      <td>0.310775</td>\n",
       "      <td>1.221073</td>\n",
       "      <td>0.704733</td>\n",
       "      <td>1.160231</td>\n",
       "      <td>1.155511</td>\n",
       "      <td>0.767917</td>\n",
       "      <td>1.133180</td>\n",
       "      <td>53</td>\n",
       "      <td>21.588183</td>\n",
       "      <td>HC</td>\n",
       "    </tr>\n",
       "    <tr>\n",
       "      <th>75731</th>\n",
       "      <td>93</td>\n",
       "      <td>999910375</td>\n",
       "      <td>11</td>\n",
       "      <td>0.008093</td>\n",
       "      <td>0.026037</td>\n",
       "      <td>0.061073</td>\n",
       "      <td>0.072381</td>\n",
       "      <td>0.001968</td>\n",
       "      <td>0.002512</td>\n",
       "      <td>0.044981</td>\n",
       "      <td>...</td>\n",
       "      <td>0.277218</td>\n",
       "      <td>1.142643</td>\n",
       "      <td>0.700183</td>\n",
       "      <td>1.171400</td>\n",
       "      <td>1.025454</td>\n",
       "      <td>0.756246</td>\n",
       "      <td>1.168083</td>\n",
       "      <td>53</td>\n",
       "      <td>21.588183</td>\n",
       "      <td>HC</td>\n",
       "    </tr>\n",
       "  </tbody>\n",
       "</table>\n",
       "<p>75732 rows × 28 columns</p>\n",
       "</div>"
      ],
      "text/plain": [
       "       SUBJECT_ID  SESSION_ID  TRIAL_ID  c_ml_min_r  c_ml_max_r  c_ml_min_l  \\\n",
       "0             510         413         1    0.087271    0.118247    0.087814   \n",
       "1             510         413         2    0.085806    0.128396    0.040212   \n",
       "2             510         413         3    0.073788    0.112735    0.049990   \n",
       "3             510         413         4    0.056216    0.102832    0.086729   \n",
       "4             510         413         6    0.064922    0.102404    0.000573   \n",
       "...           ...         ...       ...         ...         ...         ...   \n",
       "75727          93   999910375         6    0.057389    0.081491   -0.007720   \n",
       "75728          93   999910375         7    0.060523    0.065029    0.077223   \n",
       "75729          93   999910375         9    0.068348    0.103938    0.014182   \n",
       "75730          93   999910375        10    0.032184    0.046935   -0.001137   \n",
       "75731          93   999910375        11    0.008093    0.026037    0.061073   \n",
       "\n",
       "       c_ml_max_l  c_ap_slope_r  c_ap_slope_l  g_ml_max1_r  ...  g_ap_max_l  \\\n",
       "0        0.128115      0.001718      0.002493     0.072643  ...    0.130772   \n",
       "1        0.083074      0.001589      0.001834     0.072360  ...    0.136687   \n",
       "2        0.099952      0.001740      0.001734     0.059417  ...    0.143187   \n",
       "3        0.127982      0.001919      0.001361     0.079792  ...    0.155758   \n",
       "4        0.052266      0.001837      0.002049     0.059537  ...    0.140561   \n",
       "...           ...           ...           ...          ...  ...         ...   \n",
       "75727   -0.005253      0.001445      0.000769     0.027693  ...    0.296245   \n",
       "75728    0.107414      0.001117      0.001277     0.069434  ...    0.313936   \n",
       "75729    0.031058      0.001457      0.001514     0.042854  ...    0.317704   \n",
       "75730    0.021139      0.001090      0.001431     0.048381  ...    0.310775   \n",
       "75731    0.072381      0.001968      0.002512     0.044981  ...    0.277218   \n",
       "\n",
       "       g_v_max1_r  g_v_min_r  g_v_max2_r  g_v_max1_l  g_v_min_l  g_v_max2_l  \\\n",
       "0        1.035925   0.818121    0.987930    1.083287   0.796622    1.003385   \n",
       "1        1.009803   0.819649    0.991990    1.018526   0.837006    0.999401   \n",
       "2        1.010970   0.823223    0.989883    1.049092   0.815221    1.003578   \n",
       "3        1.047625   0.797822    1.005463    1.118118   0.773203    1.021851   \n",
       "4        1.044787   0.780821    1.009273    1.084354   0.820851    1.027245   \n",
       "...           ...        ...         ...         ...        ...         ...   \n",
       "75727    1.227360   0.635865    1.188197    1.210305   0.600266    0.862586   \n",
       "75728    1.360617   0.653168    1.074324    1.195931   0.691509    1.105625   \n",
       "75729    1.220940   0.697688    1.129716    1.132665   0.683090    1.187864   \n",
       "75730    1.221073   0.704733    1.160231    1.155511   0.767917    1.133180   \n",
       "75731    1.142643   0.700183    1.171400    1.025454   0.756246    1.168083   \n",
       "\n",
       "       AGE        BMI  CLASS_LABEL  \n",
       "0       47  35.538442            C  \n",
       "1       47  35.538442            C  \n",
       "2       47  35.538442            C  \n",
       "3       47  35.538442            C  \n",
       "4       47  35.538442            C  \n",
       "...    ...        ...          ...  \n",
       "75727   53  21.588183           HC  \n",
       "75728   53  21.588183           HC  \n",
       "75729   53  21.588183           HC  \n",
       "75730   53  21.588183           HC  \n",
       "75731   53  21.588183           HC  \n",
       "\n",
       "[75732 rows x 28 columns]"
      ]
     },
     "execution_count": 2,
     "metadata": {},
     "output_type": "execute_result"
    }
   ],
   "source": [
    "df = pd.read_csv('../data/features_engineered.csv', encoding='utf-8')\n",
    "df"
   ]
  },
  {
   "cell_type": "code",
   "execution_count": 3,
   "id": "d60bffeb-87c7-458d-b9e9-a1e3aef5f685",
   "metadata": {},
   "outputs": [
    {
     "data": {
      "text/plain": [
       "BMI    26992\n",
       "dtype: int64"
      ]
     },
     "execution_count": 3,
     "metadata": {},
     "output_type": "execute_result"
    }
   ],
   "source": [
    "df.isna().sum().loc[lambda x : x>0].sort_values(ascending=False)"
   ]
  },
  {
   "cell_type": "code",
   "execution_count": 4,
   "id": "40e4e0f6-77b0-4405-9d2b-e2660925e695",
   "metadata": {},
   "outputs": [],
   "source": [
    "df.dropna(inplace=True)"
   ]
  },
  {
   "cell_type": "code",
   "execution_count": 5,
   "id": "1cf9d312-a03f-4db0-8182-74212d6ce544",
   "metadata": {},
   "outputs": [
    {
     "data": {
      "text/plain": [
       "(48740, 28)"
      ]
     },
     "execution_count": 5,
     "metadata": {},
     "output_type": "execute_result"
    }
   ],
   "source": [
    "df.shape"
   ]
  },
  {
   "cell_type": "code",
   "execution_count": 6,
   "id": "31787c19-e81f-4007-a7d0-6d66e2614646",
   "metadata": {
    "scrolled": true,
    "tags": []
   },
   "outputs": [
    {
     "data": {
      "text/plain": [
       "Index(['SUBJECT_ID', 'SESSION_ID', 'TRIAL_ID', 'c_ml_min_r', 'c_ml_max_r',\n",
       "       'c_ml_min_l', 'c_ml_max_l', 'c_ap_slope_r', 'c_ap_slope_l',\n",
       "       'g_ml_max1_r', 'g_ml_min_r', 'g_ml_max2_r', 'g_ml_max1_l', 'g_ml_min_l',\n",
       "       'g_ml_max2_l', 'g_ap_min_r', 'g_ap_max_r', 'g_ap_min_l', 'g_ap_max_l',\n",
       "       'g_v_max1_r', 'g_v_min_r', 'g_v_max2_r', 'g_v_max1_l', 'g_v_min_l',\n",
       "       'g_v_max2_l', 'AGE', 'BMI', 'CLASS_LABEL'],\n",
       "      dtype='object')"
      ]
     },
     "execution_count": 6,
     "metadata": {},
     "output_type": "execute_result"
    }
   ],
   "source": [
    "df.columns"
   ]
  },
  {
   "cell_type": "markdown",
   "id": "131398b3-b270-45bc-9d5c-c7cb0c905e44",
   "metadata": {},
   "source": [
    "### Neural Network using 23 engineered features"
   ]
  },
  {
   "cell_type": "code",
   "execution_count": 7,
   "id": "31d52533-ffb7-4934-827a-b10703290df6",
   "metadata": {},
   "outputs": [],
   "source": [
    "# https://scikit-learn.org/0.18/auto_examples/svm/plot_iris.html\n",
    "# https://stackoverflow.com/questions/36232334/plotting-3d-decision-boundary-from-linear-svm"
   ]
  },
  {
   "cell_type": "code",
   "execution_count": 8,
   "id": "d3803170-4644-43fa-8e92-0681e6bfe662",
   "metadata": {},
   "outputs": [
    {
     "data": {
      "text/plain": [
       "(array([0, 0, 0, ..., 4, 4, 4], dtype=int64),\n",
       " Index(['C', 'K', 'H', 'A', 'HC'], dtype='object'))"
      ]
     },
     "execution_count": 8,
     "metadata": {},
     "output_type": "execute_result"
    }
   ],
   "source": [
    "df['CLASS_LABEL'].factorize()"
   ]
  },
  {
   "cell_type": "code",
   "execution_count": 9,
   "id": "03d62221-e01a-4735-b4b8-e510f6bd48e5",
   "metadata": {},
   "outputs": [
    {
     "data": {
      "text/plain": [
       "array([0, 0, 0, ..., 4, 4, 4], dtype=int64)"
      ]
     },
     "execution_count": 9,
     "metadata": {},
     "output_type": "execute_result"
    }
   ],
   "source": [
    "df['CLASS_LABEL'].factorize()[0]"
   ]
  },
  {
   "cell_type": "code",
   "execution_count": 10,
   "id": "5e0e998b-5085-4896-afc2-45071179f38d",
   "metadata": {},
   "outputs": [
    {
     "data": {
      "text/plain": [
       "array([[1., 0., 0., 0., 0.],\n",
       "       [1., 0., 0., 0., 0.],\n",
       "       [1., 0., 0., 0., 0.],\n",
       "       ...,\n",
       "       [0., 0., 0., 0., 1.],\n",
       "       [0., 0., 0., 0., 1.],\n",
       "       [0., 0., 0., 0., 1.]], dtype=float32)"
      ]
     },
     "execution_count": 10,
     "metadata": {},
     "output_type": "execute_result"
    }
   ],
   "source": [
    "#prepare the data\n",
    "X= df[['c_ml_min_r', 'c_ml_max_r',\n",
    "       'c_ml_min_l', 'c_ml_max_l', 'c_ap_slope_r', 'c_ap_slope_l',\n",
    "       'g_ml_max1_r', 'g_ml_min_r', 'g_ml_max2_r', 'g_ml_max1_l', 'g_ml_min_l',\n",
    "       'g_ml_max2_l', 'g_ap_min_r', 'g_ap_max_r', 'g_ap_min_l', 'g_ap_max_l',\n",
    "       'g_v_max1_r', 'g_v_min_r', 'g_v_max2_r', 'g_v_max1_l', 'g_v_min_l',\n",
    "       'g_v_max2_l','AGE','BMI']]\n",
    "y = np_utils.to_categorical(df['CLASS_LABEL'].factorize()[0])\n",
    "y"
   ]
  },
  {
   "cell_type": "code",
   "execution_count": 11,
   "id": "ccc43db8-8948-4527-ad5e-0cdec279df09",
   "metadata": {},
   "outputs": [],
   "source": [
    "X_train, X_test, y_train, y_test = train_test_split(X, y, test_size=0.25, random_state=42,stratify=y)"
   ]
  },
  {
   "cell_type": "code",
   "execution_count": 12,
   "id": "92ad0781-6974-4fbf-98fe-f4419b0ce893",
   "metadata": {},
   "outputs": [
    {
     "data": {
      "text/plain": [
       "24"
      ]
     },
     "execution_count": 12,
     "metadata": {},
     "output_type": "execute_result"
    }
   ],
   "source": [
    "X_train.shape[1]"
   ]
  },
  {
   "cell_type": "markdown",
   "id": "d5e682e5-3ae2-4757-b9ec-be22fb0f95bf",
   "metadata": {},
   "source": [
    "Explanation for Keras API used: https://keras.io/api/layers\n",
    "* Model : Sequential\n",
    "* Pre-processing layer: Normalization\n",
    "* Core layer: Dense, Relu activation\n",
    "* Regularisation layer: Dropout?\n",
    "* Activation layer: Dense, Softmax activation"
   ]
  },
  {
   "cell_type": "code",
   "execution_count": 13,
   "id": "46443cf9-3dd5-4df5-b6e1-c275f6f869ed",
   "metadata": {},
   "outputs": [
    {
     "name": "stdout",
     "output_type": "stream",
     "text": [
      "Model: \"sequential\"\n",
      "_________________________________________________________________\n",
      " Layer (type)                Output Shape              Param #   \n",
      "=================================================================\n",
      " normalization (Normalizatio  (None, 24)               49        \n",
      " n)                                                              \n",
      "                                                                 \n",
      " dense (Dense)               (None, 24)                600       \n",
      "                                                                 \n",
      " dense_1 (Dense)             (None, 5)                 125       \n",
      "                                                                 \n",
      "=================================================================\n",
      "Total params: 774\n",
      "Trainable params: 725\n",
      "Non-trainable params: 49\n",
      "_________________________________________________________________\n"
     ]
    }
   ],
   "source": [
    "#create normalisation layer and set initial state using training data\n",
    "normalization_layer = Normalization()\n",
    "normalization_layer.adapt(X_train)\n",
    "\n",
    "#Dimensions\n",
    "input_dim = X_train.shape[1]\n",
    "output_dim = y_train.shape[1]\n",
    "\n",
    "#Add layers to sequential model\n",
    "model = Sequential()\n",
    "model.add(normalization_layer)\n",
    "model.add(Dense(input_dim, activation='relu'))\n",
    "model.add(Dense(output_dim, activation='softmax'))\n",
    "model.compile(optimizer='adam', metrics=['acc'], loss='categorical_crossentropy')\n",
    "model.summary()"
   ]
  },
  {
   "cell_type": "code",
   "execution_count": 14,
   "id": "f51cf436-5c96-4baf-9d68-9099c05f4cce",
   "metadata": {},
   "outputs": [
    {
     "name": "stdout",
     "output_type": "stream",
     "text": [
      "CPU times: total: 13.7 s\n",
      "Wall time: 42.1 s\n"
     ]
    }
   ],
   "source": [
    "%%time\n",
    "# Fit the model and save into history\n",
    "history = model.fit(X_train, y_train, batch_size=100, epochs=20, validation_data=(X_test, y_test),verbose=0)"
   ]
  },
  {
   "cell_type": "code",
   "execution_count": 15,
   "id": "1ea4f8cb-607e-47c0-9e44-0a64ec9b4daf",
   "metadata": {},
   "outputs": [
    {
     "data": {
      "image/png": "[encoded data removed]",
      "text/plain": [
       "<Figure size 640x480 with 1 Axes>"
      ]
     },
     "metadata": {},
     "output_type": "display_data"
    }
   ],
   "source": [
    "#plot\n",
    "plt.plot(history.history['acc'])\n",
    "plt.plot(history.history['val_acc'])\n",
    "plt.title('Neural Network F1 Score for 23 Engineered Features')\n",
    "plt.ylabel('accuracy')\n",
    "plt.xlabel('epoch')\n",
    "plt.legend(['train', 'val'], loc='upper left')\n",
    "plt.show()"
   ]
  },
  {
   "cell_type": "code",
   "execution_count": 16,
   "id": "15d2daad-b78b-4798-bc4a-47886fee486d",
   "metadata": {},
   "outputs": [
    {
     "name": "stdout",
     "output_type": "stream",
     "text": [
      "381/381 [==============================] - 1s 3ms/step\n"
     ]
    },
    {
     "data": {
      "text/plain": [
       "array([3, 3, 4, ..., 1, 4, 3], dtype=int64)"
      ]
     },
     "execution_count": 16,
     "metadata": {},
     "output_type": "execute_result"
    }
   ],
   "source": [
    "#Predict\n",
    "pred_labels = np.argmax(model.predict(X_test),axis=1)\n",
    "pred_labels"
   ]
  },
  {
   "cell_type": "code",
   "execution_count": 17,
   "id": "55a74dbf-f31c-49f1-b3ca-d72c521bfcd6",
   "metadata": {},
   "outputs": [
    {
     "data": {
      "text/plain": [
       "array([0, 3, 4, ..., 1, 0, 3], dtype=int64)"
      ]
     },
     "execution_count": 17,
     "metadata": {},
     "output_type": "execute_result"
    }
   ],
   "source": [
    "y_test_labels=np.argmax(y_test,axis=1)\n",
    "y_test_labels"
   ]
  },
  {
   "cell_type": "code",
   "execution_count": 18,
   "id": "cd7e3a66-b063-42d4-ae0b-5a46408d5a77",
   "metadata": {},
   "outputs": [
    {
     "data": {
      "text/plain": [
       "0.6051702913418137"
      ]
     },
     "execution_count": 18,
     "metadata": {},
     "output_type": "execute_result"
    }
   ],
   "source": [
    "accuracy_score(y_test_labels,pred_labels)"
   ]
  },
  {
   "cell_type": "code",
   "execution_count": 19,
   "id": "e8f58bcc-eae6-45a5-9f8f-1d887fbe3719",
   "metadata": {},
   "outputs": [
    {
     "name": "stdout",
     "output_type": "stream",
     "text": [
      "[[1094  117   49  598   46]\n",
      " [  51 1676  282  634  201]\n",
      " [  36  466  724  260  149]\n",
      " [ 415  546  192 2535  175]\n",
      " [  11  298  121  164 1345]]\n"
     ]
    }
   ],
   "source": [
    "#Create confusion matrix and normalizes it over predicted (columns)\n",
    "cm = confusion_matrix(y_test_labels, pred_labels)\n",
    "print(cm)"
   ]
  },
  {
   "cell_type": "code",
   "execution_count": 20,
   "id": "f28cc34c-c7b3-4383-9ae6-8b8c6ad2a733",
   "metadata": {},
   "outputs": [],
   "source": [
    "def confusion_matrix_metrics(cls, cm):\n",
    "    TP = cm[cls, cls]\n",
    "    FN = cm[cls].sum() - TP\n",
    "    FP = cm[:, cls].sum() - TP\n",
    "    TN = cm.sum() - TP - FN - FP\n",
    "    return np.array([[TP, FN], [FP, TN]])"
   ]
  },
  {
   "cell_type": "code",
   "execution_count": 21,
   "id": "6d33d754-ab38-472a-ac96-cf27ddf1629a",
   "metadata": {},
   "outputs": [
    {
     "name": "stdout",
     "output_type": "stream",
     "text": [
      "[Class 0 vs others]\n",
      "TP: 1094, FN: 810, FP: 513, TN: 9768\n",
      "[Class 1 vs others]\n",
      "TP: 1676, FN: 1168, FP: 1427, TN: 7914\n",
      "[Class 2 vs others]\n",
      "TP: 724, FN: 911, FP: 644, TN: 9906\n",
      "[Class 3 vs others]\n",
      "TP: 2535, FN: 1328, FP: 1656, TN: 6666\n",
      "[Class 4 vs others]\n",
      "TP: 1345, FN: 594, FP: 571, TN: 9675\n"
     ]
    }
   ],
   "source": [
    "for cls in range(cm.shape[0]):\n",
    "    print(f'[Class {cls} vs others]')\n",
    "    TP, FN, FP, TN = confusion_matrix_metrics(cls, cm).ravel()\n",
    "    print(f'TP: {TP}, FN: {FN}, FP: {FP}, TN: {TN}')"
   ]
  },
  {
   "cell_type": "code",
   "execution_count": 22,
   "id": "c18b53b5-6b2d-452e-b37a-72827ee9743c",
   "metadata": {},
   "outputs": [
    {
     "name": "stdout",
     "output_type": "stream",
     "text": [
      "              precision    recall  f1-score   support\n",
      "\n",
      "           0       0.68      0.57      0.62      1904\n",
      "           1       0.54      0.59      0.56      2844\n",
      "           2       0.53      0.44      0.48      1635\n",
      "           3       0.60      0.66      0.63      3863\n",
      "           4       0.70      0.69      0.70      1939\n",
      "\n",
      "    accuracy                           0.61     12185\n",
      "   macro avg       0.61      0.59      0.60     12185\n",
      "weighted avg       0.61      0.61      0.60     12185\n",
      "\n"
     ]
    }
   ],
   "source": [
    "print(classification_report(y_test_labels, pred_labels))"
   ]
  },
  {
   "cell_type": "markdown",
   "id": "e2f7dce3-1653-42b3-ac59-a59ab9718f39",
   "metadata": {},
   "source": [
    "**Findings**\n",
    "* A, C, H, HC, K\n",
    "* macro avg is the average of the precision / recall for all classes\n",
    "* For prediction, we aim to reduce false nagative to capture all walking issues, hence recall is chaosen to be more important metric\n",
    "* Support is the number of actual occurrences of the class in the specified dataset, the class distribution is not too imbalanced towards class 1 and 3"
   ]
  },
  {
   "cell_type": "markdown",
   "id": "811b3b4a-842b-435e-984b-2971499672f5",
   "metadata": {},
   "source": [
    "## Neural Network using original 1000 features"
   ]
  },
  {
   "cell_type": "code",
   "execution_count": 23,
   "id": "eac62381-5904-47ca-9a52-1302ce4487de",
   "metadata": {},
   "outputs": [
    {
     "data": {
      "text/html": [
       "<div>\n",
       "<style scoped>\n",
       "    .dataframe tbody tr th:only-of-type {\n",
       "        vertical-align: middle;\n",
       "    }\n",
       "\n",
       "    .dataframe tbody tr th {\n",
       "        vertical-align: top;\n",
       "    }\n",
       "\n",
       "    .dataframe thead th {\n",
       "        text-align: right;\n",
       "    }\n",
       "</style>\n",
       "<table border=\"1\" class=\"dataframe\">\n",
       "  <thead>\n",
       "    <tr style=\"text-align: right;\">\n",
       "      <th></th>\n",
       "      <th>SUBJECT_ID</th>\n",
       "      <th>SESSION_ID</th>\n",
       "      <th>TRIAL_ID</th>\n",
       "      <th>0_cmlr</th>\n",
       "      <th>1_cmlr</th>\n",
       "      <th>2_cmlr</th>\n",
       "      <th>3_cmlr</th>\n",
       "      <th>4_cmlr</th>\n",
       "      <th>5_cmlr</th>\n",
       "      <th>6_cmlr</th>\n",
       "      <th>...</th>\n",
       "      <th>94_gvl</th>\n",
       "      <th>95_gvl</th>\n",
       "      <th>96_gvl</th>\n",
       "      <th>97_gvl</th>\n",
       "      <th>98_gvl</th>\n",
       "      <th>99_gvl</th>\n",
       "      <th>AGE</th>\n",
       "      <th>BMI</th>\n",
       "      <th>SPEED</th>\n",
       "      <th>CLASS_LABEL</th>\n",
       "    </tr>\n",
       "  </thead>\n",
       "  <tbody>\n",
       "    <tr>\n",
       "      <th>0</th>\n",
       "      <td>510</td>\n",
       "      <td>413</td>\n",
       "      <td>1</td>\n",
       "      <td>0.090489</td>\n",
       "      <td>0.088296</td>\n",
       "      <td>0.090543</td>\n",
       "      <td>0.088585</td>\n",
       "      <td>0.088419</td>\n",
       "      <td>0.087271</td>\n",
       "      <td>0.087643</td>\n",
       "      <td>...</td>\n",
       "      <td>0.206161</td>\n",
       "      <td>0.157969</td>\n",
       "      <td>0.114536</td>\n",
       "      <td>0.078322</td>\n",
       "      <td>0.051086</td>\n",
       "      <td>0.030038</td>\n",
       "      <td>47</td>\n",
       "      <td>35.538442</td>\n",
       "      <td>2</td>\n",
       "      <td>C</td>\n",
       "    </tr>\n",
       "    <tr>\n",
       "      <th>1</th>\n",
       "      <td>510</td>\n",
       "      <td>413</td>\n",
       "      <td>2</td>\n",
       "      <td>0.099445</td>\n",
       "      <td>0.085806</td>\n",
       "      <td>0.092521</td>\n",
       "      <td>0.089278</td>\n",
       "      <td>0.092119</td>\n",
       "      <td>0.090495</td>\n",
       "      <td>0.091194</td>\n",
       "      <td>...</td>\n",
       "      <td>0.193967</td>\n",
       "      <td>0.150712</td>\n",
       "      <td>0.109526</td>\n",
       "      <td>0.073994</td>\n",
       "      <td>0.048843</td>\n",
       "      <td>0.028040</td>\n",
       "      <td>47</td>\n",
       "      <td>35.538442</td>\n",
       "      <td>2</td>\n",
       "      <td>C</td>\n",
       "    </tr>\n",
       "    <tr>\n",
       "      <th>2</th>\n",
       "      <td>510</td>\n",
       "      <td>413</td>\n",
       "      <td>3</td>\n",
       "      <td>0.080434</td>\n",
       "      <td>0.073788</td>\n",
       "      <td>0.076158</td>\n",
       "      <td>0.074499</td>\n",
       "      <td>0.074923</td>\n",
       "      <td>0.074800</td>\n",
       "      <td>0.075813</td>\n",
       "      <td>...</td>\n",
       "      <td>0.207438</td>\n",
       "      <td>0.159884</td>\n",
       "      <td>0.116295</td>\n",
       "      <td>0.077046</td>\n",
       "      <td>0.050402</td>\n",
       "      <td>0.028532</td>\n",
       "      <td>47</td>\n",
       "      <td>35.538442</td>\n",
       "      <td>2</td>\n",
       "      <td>C</td>\n",
       "    </tr>\n",
       "    <tr>\n",
       "      <th>3</th>\n",
       "      <td>510</td>\n",
       "      <td>413</td>\n",
       "      <td>4</td>\n",
       "      <td>0.072603</td>\n",
       "      <td>0.056216</td>\n",
       "      <td>0.062936</td>\n",
       "      <td>0.058685</td>\n",
       "      <td>0.061489</td>\n",
       "      <td>0.060092</td>\n",
       "      <td>0.061455</td>\n",
       "      <td>...</td>\n",
       "      <td>0.200746</td>\n",
       "      <td>0.153727</td>\n",
       "      <td>0.111913</td>\n",
       "      <td>0.075615</td>\n",
       "      <td>0.050814</td>\n",
       "      <td>0.029449</td>\n",
       "      <td>47</td>\n",
       "      <td>35.538442</td>\n",
       "      <td>2</td>\n",
       "      <td>C</td>\n",
       "    </tr>\n",
       "    <tr>\n",
       "      <th>4</th>\n",
       "      <td>510</td>\n",
       "      <td>413</td>\n",
       "      <td>6</td>\n",
       "      <td>0.076400</td>\n",
       "      <td>0.064922</td>\n",
       "      <td>0.069484</td>\n",
       "      <td>0.067106</td>\n",
       "      <td>0.067142</td>\n",
       "      <td>0.065643</td>\n",
       "      <td>0.066555</td>\n",
       "      <td>...</td>\n",
       "      <td>0.226931</td>\n",
       "      <td>0.175726</td>\n",
       "      <td>0.127687</td>\n",
       "      <td>0.084625</td>\n",
       "      <td>0.054879</td>\n",
       "      <td>0.030352</td>\n",
       "      <td>47</td>\n",
       "      <td>35.538442</td>\n",
       "      <td>2</td>\n",
       "      <td>C</td>\n",
       "    </tr>\n",
       "    <tr>\n",
       "      <th>...</th>\n",
       "      <td>...</td>\n",
       "      <td>...</td>\n",
       "      <td>...</td>\n",
       "      <td>...</td>\n",
       "      <td>...</td>\n",
       "      <td>...</td>\n",
       "      <td>...</td>\n",
       "      <td>...</td>\n",
       "      <td>...</td>\n",
       "      <td>...</td>\n",
       "      <td>...</td>\n",
       "      <td>...</td>\n",
       "      <td>...</td>\n",
       "      <td>...</td>\n",
       "      <td>...</td>\n",
       "      <td>...</td>\n",
       "      <td>...</td>\n",
       "      <td>...</td>\n",
       "      <td>...</td>\n",
       "      <td>...</td>\n",
       "      <td>...</td>\n",
       "    </tr>\n",
       "    <tr>\n",
       "      <th>75727</th>\n",
       "      <td>93</td>\n",
       "      <td>999910375</td>\n",
       "      <td>6</td>\n",
       "      <td>0.079767</td>\n",
       "      <td>0.063966</td>\n",
       "      <td>0.057389</td>\n",
       "      <td>0.070820</td>\n",
       "      <td>0.062624</td>\n",
       "      <td>0.066724</td>\n",
       "      <td>0.066109</td>\n",
       "      <td>...</td>\n",
       "      <td>0.585992</td>\n",
       "      <td>0.506672</td>\n",
       "      <td>0.378240</td>\n",
       "      <td>0.271666</td>\n",
       "      <td>0.131318</td>\n",
       "      <td>0.068635</td>\n",
       "      <td>53</td>\n",
       "      <td>21.588183</td>\n",
       "      <td>3</td>\n",
       "      <td>HC</td>\n",
       "    </tr>\n",
       "    <tr>\n",
       "      <th>75728</th>\n",
       "      <td>93</td>\n",
       "      <td>999910375</td>\n",
       "      <td>7</td>\n",
       "      <td>0.071751</td>\n",
       "      <td>0.068806</td>\n",
       "      <td>0.060523</td>\n",
       "      <td>0.067541</td>\n",
       "      <td>0.065756</td>\n",
       "      <td>0.068228</td>\n",
       "      <td>0.068960</td>\n",
       "      <td>...</td>\n",
       "      <td>0.210229</td>\n",
       "      <td>0.135406</td>\n",
       "      <td>0.074887</td>\n",
       "      <td>0.079133</td>\n",
       "      <td>0.040195</td>\n",
       "      <td>0.060160</td>\n",
       "      <td>53</td>\n",
       "      <td>21.588183</td>\n",
       "      <td>3</td>\n",
       "      <td>HC</td>\n",
       "    </tr>\n",
       "    <tr>\n",
       "      <th>75729</th>\n",
       "      <td>93</td>\n",
       "      <td>999910375</td>\n",
       "      <td>9</td>\n",
       "      <td>0.090892</td>\n",
       "      <td>0.075870</td>\n",
       "      <td>0.068348</td>\n",
       "      <td>0.082233</td>\n",
       "      <td>0.079673</td>\n",
       "      <td>0.079846</td>\n",
       "      <td>0.083529</td>\n",
       "      <td>...</td>\n",
       "      <td>0.245192</td>\n",
       "      <td>0.146890</td>\n",
       "      <td>0.067128</td>\n",
       "      <td>0.066237</td>\n",
       "      <td>0.035762</td>\n",
       "      <td>0.058333</td>\n",
       "      <td>53</td>\n",
       "      <td>21.588183</td>\n",
       "      <td>3</td>\n",
       "      <td>HC</td>\n",
       "    </tr>\n",
       "    <tr>\n",
       "      <th>75730</th>\n",
       "      <td>93</td>\n",
       "      <td>999910375</td>\n",
       "      <td>10</td>\n",
       "      <td>0.042685</td>\n",
       "      <td>0.034425</td>\n",
       "      <td>0.034721</td>\n",
       "      <td>0.032184</td>\n",
       "      <td>0.037931</td>\n",
       "      <td>0.036505</td>\n",
       "      <td>0.039742</td>\n",
       "      <td>...</td>\n",
       "      <td>0.199702</td>\n",
       "      <td>0.131545</td>\n",
       "      <td>0.081470</td>\n",
       "      <td>0.075674</td>\n",
       "      <td>0.053003</td>\n",
       "      <td>0.048931</td>\n",
       "      <td>53</td>\n",
       "      <td>21.588183</td>\n",
       "      <td>3</td>\n",
       "      <td>HC</td>\n",
       "    </tr>\n",
       "    <tr>\n",
       "      <th>75731</th>\n",
       "      <td>93</td>\n",
       "      <td>999910375</td>\n",
       "      <td>11</td>\n",
       "      <td>0.014172</td>\n",
       "      <td>0.012868</td>\n",
       "      <td>0.009000</td>\n",
       "      <td>0.008093</td>\n",
       "      <td>0.011815</td>\n",
       "      <td>0.010547</td>\n",
       "      <td>0.011831</td>\n",
       "      <td>...</td>\n",
       "      <td>0.530773</td>\n",
       "      <td>0.420416</td>\n",
       "      <td>0.293344</td>\n",
       "      <td>0.188383</td>\n",
       "      <td>0.089095</td>\n",
       "      <td>0.049710</td>\n",
       "      <td>53</td>\n",
       "      <td>21.588183</td>\n",
       "      <td>3</td>\n",
       "      <td>HC</td>\n",
       "    </tr>\n",
       "  </tbody>\n",
       "</table>\n",
       "<p>75732 rows × 1007 columns</p>\n",
       "</div>"
      ],
      "text/plain": [
       "       SUBJECT_ID  SESSION_ID  TRIAL_ID    0_cmlr    1_cmlr    2_cmlr  \\\n",
       "0             510         413         1  0.090489  0.088296  0.090543   \n",
       "1             510         413         2  0.099445  0.085806  0.092521   \n",
       "2             510         413         3  0.080434  0.073788  0.076158   \n",
       "3             510         413         4  0.072603  0.056216  0.062936   \n",
       "4             510         413         6  0.076400  0.064922  0.069484   \n",
       "...           ...         ...       ...       ...       ...       ...   \n",
       "75727          93   999910375         6  0.079767  0.063966  0.057389   \n",
       "75728          93   999910375         7  0.071751  0.068806  0.060523   \n",
       "75729          93   999910375         9  0.090892  0.075870  0.068348   \n",
       "75730          93   999910375        10  0.042685  0.034425  0.034721   \n",
       "75731          93   999910375        11  0.014172  0.012868  0.009000   \n",
       "\n",
       "         3_cmlr    4_cmlr    5_cmlr    6_cmlr  ...    94_gvl    95_gvl  \\\n",
       "0      0.088585  0.088419  0.087271  0.087643  ...  0.206161  0.157969   \n",
       "1      0.089278  0.092119  0.090495  0.091194  ...  0.193967  0.150712   \n",
       "2      0.074499  0.074923  0.074800  0.075813  ...  0.207438  0.159884   \n",
       "3      0.058685  0.061489  0.060092  0.061455  ...  0.200746  0.153727   \n",
       "4      0.067106  0.067142  0.065643  0.066555  ...  0.226931  0.175726   \n",
       "...         ...       ...       ...       ...  ...       ...       ...   \n",
       "75727  0.070820  0.062624  0.066724  0.066109  ...  0.585992  0.506672   \n",
       "75728  0.067541  0.065756  0.068228  0.068960  ...  0.210229  0.135406   \n",
       "75729  0.082233  0.079673  0.079846  0.083529  ...  0.245192  0.146890   \n",
       "75730  0.032184  0.037931  0.036505  0.039742  ...  0.199702  0.131545   \n",
       "75731  0.008093  0.011815  0.010547  0.011831  ...  0.530773  0.420416   \n",
       "\n",
       "         96_gvl    97_gvl    98_gvl    99_gvl  AGE        BMI  SPEED  \\\n",
       "0      0.114536  0.078322  0.051086  0.030038   47  35.538442      2   \n",
       "1      0.109526  0.073994  0.048843  0.028040   47  35.538442      2   \n",
       "2      0.116295  0.077046  0.050402  0.028532   47  35.538442      2   \n",
       "3      0.111913  0.075615  0.050814  0.029449   47  35.538442      2   \n",
       "4      0.127687  0.084625  0.054879  0.030352   47  35.538442      2   \n",
       "...         ...       ...       ...       ...  ...        ...    ...   \n",
       "75727  0.378240  0.271666  0.131318  0.068635   53  21.588183      3   \n",
       "75728  0.074887  0.079133  0.040195  0.060160   53  21.588183      3   \n",
       "75729  0.067128  0.066237  0.035762  0.058333   53  21.588183      3   \n",
       "75730  0.081470  0.075674  0.053003  0.048931   53  21.588183      3   \n",
       "75731  0.293344  0.188383  0.089095  0.049710   53  21.588183      3   \n",
       "\n",
       "       CLASS_LABEL  \n",
       "0                C  \n",
       "1                C  \n",
       "2                C  \n",
       "3                C  \n",
       "4                C  \n",
       "...            ...  \n",
       "75727           HC  \n",
       "75728           HC  \n",
       "75729           HC  \n",
       "75730           HC  \n",
       "75731           HC  \n",
       "\n",
       "[75732 rows x 1007 columns]"
      ]
     },
     "execution_count": 23,
     "metadata": {},
     "output_type": "execute_result"
    }
   ],
   "source": [
    "df2 = pd.read_csv('../data/original_features.csv', encoding='utf-8')\n",
    "df2"
   ]
  },
  {
   "cell_type": "code",
   "execution_count": 24,
   "id": "a9e26443-2583-4221-8b98-1703bd17a12a",
   "metadata": {},
   "outputs": [],
   "source": [
    "df2.dropna(inplace=True)"
   ]
  },
  {
   "cell_type": "code",
   "execution_count": 25,
   "id": "549078ba-a1f0-4776-a9e8-8c3bde918a27",
   "metadata": {},
   "outputs": [
    {
     "data": {
      "text/plain": [
       "Series([], dtype: int64)"
      ]
     },
     "execution_count": 25,
     "metadata": {},
     "output_type": "execute_result"
    }
   ],
   "source": [
    "df2.isna().sum().loc[lambda x : x>0].sort_values(ascending=False)"
   ]
  },
  {
   "cell_type": "code",
   "execution_count": 26,
   "id": "7823faa3-beb9-48f5-a1ec-38e4c3c18382",
   "metadata": {},
   "outputs": [
    {
     "data": {
      "text/plain": [
       "array([[1., 0., 0., 0., 0.],\n",
       "       [1., 0., 0., 0., 0.],\n",
       "       [1., 0., 0., 0., 0.],\n",
       "       ...,\n",
       "       [0., 0., 0., 0., 1.],\n",
       "       [0., 0., 0., 0., 1.],\n",
       "       [0., 0., 0., 0., 1.]], dtype=float32)"
      ]
     },
     "execution_count": 26,
     "metadata": {},
     "output_type": "execute_result"
    }
   ],
   "source": [
    "#prepare the data\n",
    "X= df2.drop(['SUBJECT_ID','SESSION_ID','TRIAL_ID','SPEED','CLASS_LABEL'],axis=1)\n",
    "y= np_utils.to_categorical(df2['CLASS_LABEL'].factorize()[0])\n",
    "y"
   ]
  },
  {
   "cell_type": "code",
   "execution_count": 27,
   "id": "3d5a8658-a406-4711-9f07-449f74656ce5",
   "metadata": {},
   "outputs": [],
   "source": [
    "X_train, X_test, y_train, y_test = train_test_split(X, y, test_size=0.25, random_state=42,stratify=y)"
   ]
  },
  {
   "cell_type": "code",
   "execution_count": 28,
   "id": "0b2aab07-f7d0-416a-813c-a08e3fd64761",
   "metadata": {},
   "outputs": [
    {
     "data": {
      "text/plain": [
       "(36555, 1002)"
      ]
     },
     "execution_count": 28,
     "metadata": {},
     "output_type": "execute_result"
    }
   ],
   "source": [
    "X_train.shape"
   ]
  },
  {
   "cell_type": "code",
   "execution_count": 29,
   "id": "66146c19-cc4c-492c-9a5c-5fcc1770b8c5",
   "metadata": {},
   "outputs": [
    {
     "name": "stdout",
     "output_type": "stream",
     "text": [
      "Model: \"sequential_1\"\n",
      "_________________________________________________________________\n",
      " Layer (type)                Output Shape              Param #   \n",
      "=================================================================\n",
      " normalization_1 (Normalizat  (None, 1002)             2005      \n",
      " ion)                                                            \n",
      "                                                                 \n",
      " dense_2 (Dense)             (None, 1002)              1005006   \n",
      "                                                                 \n",
      " dense_3 (Dense)             (None, 5)                 5015      \n",
      "                                                                 \n",
      "=================================================================\n",
      "Total params: 1,012,026\n",
      "Trainable params: 1,010,021\n",
      "Non-trainable params: 2,005\n",
      "_________________________________________________________________\n"
     ]
    }
   ],
   "source": [
    "#create normalisation layer and set initial state using training data\n",
    "normalization_layer = Normalization()\n",
    "normalization_layer.adapt(X_train)\n",
    "\n",
    "#Dimensions\n",
    "input_dim = X_train.shape[1]\n",
    "output_dim = y_train.shape[1]\n",
    "\n",
    "#Add layers to sequential model\n",
    "model2 = Sequential()\n",
    "model2.add(normalization_layer)\n",
    "model2.add(Dense(input_dim, activation='relu'))\n",
    "model.add(Dropout(.5))\n",
    "model2.add(Dense(output_dim, activation='softmax'))\n",
    "model2.compile(optimizer='adam', metrics=['acc'], loss='categorical_crossentropy')\n",
    "model2.summary()"
   ]
  },
  {
   "cell_type": "code",
   "execution_count": 30,
   "id": "31020d57-8a6b-4cd2-a563-63763084e579",
   "metadata": {},
   "outputs": [
    {
     "name": "stdout",
     "output_type": "stream",
     "text": [
      "CPU times: total: 2min 11s\n",
      "Wall time: 2min 54s\n"
     ]
    }
   ],
   "source": [
    "%%time\n",
    "# Fit the model and save into history\n",
    "history2 = model2.fit(X_train, y_train, batch_size=100, epochs=20, validation_data=(X_test, y_test),verbose=0)"
   ]
  },
  {
   "cell_type": "code",
   "execution_count": 31,
   "id": "9f8f170f-5c50-47a2-a160-eb44a2e11e3f",
   "metadata": {},
   "outputs": [
    {
     "data": {
      "image/png": "[encoded data removed]",
      "text/plain": [
       "<Figure size 640x480 with 1 Axes>"
      ]
     },
     "metadata": {},
     "output_type": "display_data"
    }
   ],
   "source": [
    "#plot\n",
    "plt.plot(history2.history['acc'])\n",
    "plt.plot(history2.history['val_acc'])\n",
    "plt.title('Neural Network with 1000 features Accuracy')\n",
    "plt.ylabel('accuracy')\n",
    "plt.xlabel('epoch')\n",
    "plt.legend(['train', 'val'], loc='upper left')\n",
    "plt.show()"
   ]
  },
  {
   "cell_type": "code",
   "execution_count": 32,
   "id": "b03f8d46-b8a3-41bb-ac38-f1c8a20e5d6c",
   "metadata": {},
   "outputs": [
    {
     "name": "stdout",
     "output_type": "stream",
     "text": [
      "381/381 [==============================] - 3s 8ms/step\n"
     ]
    },
    {
     "data": {
      "text/plain": [
       "array([0, 3, 4, ..., 1, 0, 3], dtype=int64)"
      ]
     },
     "execution_count": 32,
     "metadata": {},
     "output_type": "execute_result"
    }
   ],
   "source": [
    "#Predict\n",
    "pred_labels = np.argmax(model2.predict(X_test),axis=1)\n",
    "pred_labels"
   ]
  },
  {
   "cell_type": "code",
   "execution_count": 33,
   "id": "dff6b483-4199-4b97-a92a-1a1eab4b0bcf",
   "metadata": {},
   "outputs": [
    {
     "data": {
      "text/plain": [
       "array([0, 3, 4, ..., 1, 0, 3], dtype=int64)"
      ]
     },
     "execution_count": 33,
     "metadata": {},
     "output_type": "execute_result"
    }
   ],
   "source": [
    "y_test_labels=np.argmax(y_test,axis=1)\n",
    "y_test_labels"
   ]
  },
  {
   "cell_type": "code",
   "execution_count": 34,
   "id": "6748f81e-1825-4d7b-b73a-ad5fe0a46014",
   "metadata": {},
   "outputs": [
    {
     "data": {
      "text/plain": [
       "0.9211325400082068"
      ]
     },
     "execution_count": 34,
     "metadata": {},
     "output_type": "execute_result"
    }
   ],
   "source": [
    "accuracy_score(y_test_labels,pred_labels)"
   ]
  },
  {
   "cell_type": "code",
   "execution_count": 35,
   "id": "3928f488-9060-4d30-8e9c-b8537c9116d9",
   "metadata": {},
   "outputs": [
    {
     "name": "stdout",
     "output_type": "stream",
     "text": [
      "[[1793   15    8   82    6]\n",
      " [  19 2610   61  109   45]\n",
      " [  14   74 1449   68   30]\n",
      " [  73  106   59 3565   60]\n",
      " [   8   53   14   57 1807]]\n"
     ]
    }
   ],
   "source": [
    "#Create confusion matrix and normalizes it over predicted (columns)\n",
    "cm = confusion_matrix(y_test_labels, pred_labels)\n",
    "print(cm)"
   ]
  },
  {
   "cell_type": "code",
   "execution_count": 36,
   "id": "895f98f5-8ad4-4d5e-b275-ca5a219acf63",
   "metadata": {},
   "outputs": [
    {
     "name": "stdout",
     "output_type": "stream",
     "text": [
      "[Class 0 vs others]\n",
      "TP: 1793, FN: 111, FP: 114, TN: 10167\n",
      "[Class 1 vs others]\n",
      "TP: 2610, FN: 234, FP: 248, TN: 9093\n",
      "[Class 2 vs others]\n",
      "TP: 1449, FN: 186, FP: 142, TN: 10408\n",
      "[Class 3 vs others]\n",
      "TP: 3565, FN: 298, FP: 316, TN: 8006\n",
      "[Class 4 vs others]\n",
      "TP: 1807, FN: 132, FP: 141, TN: 10105\n"
     ]
    }
   ],
   "source": [
    "for cls in range(cm.shape[0]):\n",
    "    print(f'[Class {cls} vs others]')\n",
    "    TP, FN, FP, TN = confusion_matrix_metrics(cls, cm).ravel()\n",
    "    print(f'TP: {TP}, FN: {FN}, FP: {FP}, TN: {TN}')"
   ]
  },
  {
   "cell_type": "code",
   "execution_count": 37,
   "id": "3f25adbf-833b-41a5-9438-afc9a891b2df",
   "metadata": {},
   "outputs": [
    {
     "name": "stdout",
     "output_type": "stream",
     "text": [
      "              precision    recall  f1-score   support\n",
      "\n",
      "           0       0.94      0.94      0.94      1904\n",
      "           1       0.91      0.92      0.92      2844\n",
      "           2       0.91      0.89      0.90      1635\n",
      "           3       0.92      0.92      0.92      3863\n",
      "           4       0.93      0.93      0.93      1939\n",
      "\n",
      "    accuracy                           0.92     12185\n",
      "   macro avg       0.92      0.92      0.92     12185\n",
      "weighted avg       0.92      0.92      0.92     12185\n",
      "\n"
     ]
    }
   ],
   "source": [
    "print(classification_report(y_test_labels, pred_labels))"
   ]
  },
  {
   "cell_type": "code",
   "execution_count": null,
   "id": "5faac75f-500f-4eb7-9426-a6f9a2f66552",
   "metadata": {},
   "outputs": [],
   "source": []
  }
 ],
 "metadata": {
  "kernelspec": {
   "display_name": "dsi-sg",
   "language": "python",
   "name": "dsi-sg"
  },
  "language_info": {
   "codemirror_mode": {
    "name": "ipython",
    "version": 3
   },
   "file_extension": ".py",
   "mimetype": "text/x-python",
   "name": "python",
   "nbconvert_exporter": "python",
   "pygments_lexer": "ipython3",
   "version": "3.9.16"
  }
 },
 "nbformat": 4,
 "nbformat_minor": 5
}
