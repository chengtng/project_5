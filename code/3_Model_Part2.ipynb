{
 "cells": [
  {
   "cell_type": "markdown",
   "id": "8304e1c8-28a6-4bc6-9751-5bb4f001531f",
   "metadata": {},
   "source": [
    "## Model Part 2\n",
    "* Feed-Forward Neural Network"
   ]
  },
  {
   "cell_type": "code",
   "execution_count": 1,
   "id": "f7014258-c042-4ad0-808a-bac7207ffc8b",
   "metadata": {},
   "outputs": [],
   "source": [
    "import warnings\n",
    "import pandas as pd\n",
    "import numpy as np\n",
    "import seaborn as sns\n",
    "import matplotlib.pyplot as plt\n",
    "import datetime as dt\n",
    "import matplotlib.patches as mpatches\n",
    "from matplotlib.colors import ListedColormap\n",
    "\n",
    "from sklearn.compose import ColumnTransformer\n",
    "from sklearn.pipeline import Pipeline\n",
    "from sklearn.impute import SimpleImputer\n",
    "from sklearn.preprocessing import StandardScaler, OneHotEncoder\n",
    "from sklearn.model_selection import train_test_split, GridSearchCV, RandomizedSearchCV,cross_val_score\n",
    "from sklearn.feature_selection import SelectPercentile, chi2\n",
    "from sklearn.metrics import confusion_matrix, plot_confusion_matrix, mean_squared_error, mean_absolute_percentage_error, accuracy_score\n",
    "from sklearn.metrics import multilabel_confusion_matrix\n",
    "from sklearn.metrics import classification_report\n",
    "\n",
    "from tensorflow.keras.models import Sequential\n",
    "from tensorflow.keras.layers import Dense, Input, Dropout,LayerNormalization,Normalization\n",
    "from tensorflow.keras import utils as np_utils\n",
    "from keras.wrappers.scikit_learn import KerasClassifier\n",
    "from tensorflow.keras import backend as K\n",
    "from tensorflow.keras import callbacks as c\n",
    "from tensorflow.keras import regularizers\n",
    "\n",
    "sns.set_style('whitegrid') # set style for visualization\n",
    "warnings.filterwarnings('ignore')"
   ]
  },
  {
   "cell_type": "code",
   "execution_count": 2,
   "id": "a9b1aea2-5182-44da-954c-d0317d468a9d",
   "metadata": {},
   "outputs": [
    {
     "data": {
      "text/html": [
       "<div>\n",
       "<style scoped>\n",
       "    .dataframe tbody tr th:only-of-type {\n",
       "        vertical-align: middle;\n",
       "    }\n",
       "\n",
       "    .dataframe tbody tr th {\n",
       "        vertical-align: top;\n",
       "    }\n",
       "\n",
       "    .dataframe thead th {\n",
       "        text-align: right;\n",
       "    }\n",
       "</style>\n",
       "<table border=\"1\" class=\"dataframe\">\n",
       "  <thead>\n",
       "    <tr style=\"text-align: right;\">\n",
       "      <th></th>\n",
       "      <th>SUBJECT_ID</th>\n",
       "      <th>SESSION_ID</th>\n",
       "      <th>TRIAL_ID</th>\n",
       "      <th>c_ml_min_r</th>\n",
       "      <th>c_ml_max_r</th>\n",
       "      <th>c_ml_min_l</th>\n",
       "      <th>c_ml_max_l</th>\n",
       "      <th>c_ap_slope_r</th>\n",
       "      <th>c_ap_slope_l</th>\n",
       "      <th>g_ml_max1_r</th>\n",
       "      <th>...</th>\n",
       "      <th>g_v_max1_r</th>\n",
       "      <th>g_v_min_r</th>\n",
       "      <th>g_v_max2_r</th>\n",
       "      <th>g_v_max1_l</th>\n",
       "      <th>g_v_min_l</th>\n",
       "      <th>g_v_max2_l</th>\n",
       "      <th>AGE</th>\n",
       "      <th>BMI</th>\n",
       "      <th>CLASS_LABEL</th>\n",
       "      <th>SPEED</th>\n",
       "    </tr>\n",
       "  </thead>\n",
       "  <tbody>\n",
       "    <tr>\n",
       "      <th>0</th>\n",
       "      <td>510</td>\n",
       "      <td>413</td>\n",
       "      <td>1</td>\n",
       "      <td>0.087271</td>\n",
       "      <td>0.118247</td>\n",
       "      <td>0.087814</td>\n",
       "      <td>0.128115</td>\n",
       "      <td>0.001718</td>\n",
       "      <td>0.002493</td>\n",
       "      <td>0.072643</td>\n",
       "      <td>...</td>\n",
       "      <td>1.035925</td>\n",
       "      <td>0.818121</td>\n",
       "      <td>0.987930</td>\n",
       "      <td>1.083287</td>\n",
       "      <td>0.796622</td>\n",
       "      <td>1.003385</td>\n",
       "      <td>47</td>\n",
       "      <td>35.538442</td>\n",
       "      <td>C</td>\n",
       "      <td>2</td>\n",
       "    </tr>\n",
       "    <tr>\n",
       "      <th>1</th>\n",
       "      <td>510</td>\n",
       "      <td>413</td>\n",
       "      <td>2</td>\n",
       "      <td>0.085806</td>\n",
       "      <td>0.128396</td>\n",
       "      <td>0.040212</td>\n",
       "      <td>0.083074</td>\n",
       "      <td>0.001589</td>\n",
       "      <td>0.001834</td>\n",
       "      <td>0.072360</td>\n",
       "      <td>...</td>\n",
       "      <td>1.009803</td>\n",
       "      <td>0.819649</td>\n",
       "      <td>0.991990</td>\n",
       "      <td>1.018526</td>\n",
       "      <td>0.837006</td>\n",
       "      <td>0.999401</td>\n",
       "      <td>47</td>\n",
       "      <td>35.538442</td>\n",
       "      <td>C</td>\n",
       "      <td>2</td>\n",
       "    </tr>\n",
       "    <tr>\n",
       "      <th>2</th>\n",
       "      <td>510</td>\n",
       "      <td>413</td>\n",
       "      <td>3</td>\n",
       "      <td>0.073788</td>\n",
       "      <td>0.112735</td>\n",
       "      <td>0.049990</td>\n",
       "      <td>0.099952</td>\n",
       "      <td>0.001740</td>\n",
       "      <td>0.001734</td>\n",
       "      <td>0.059417</td>\n",
       "      <td>...</td>\n",
       "      <td>1.010970</td>\n",
       "      <td>0.823223</td>\n",
       "      <td>0.989883</td>\n",
       "      <td>1.049092</td>\n",
       "      <td>0.815221</td>\n",
       "      <td>1.003578</td>\n",
       "      <td>47</td>\n",
       "      <td>35.538442</td>\n",
       "      <td>C</td>\n",
       "      <td>2</td>\n",
       "    </tr>\n",
       "    <tr>\n",
       "      <th>3</th>\n",
       "      <td>510</td>\n",
       "      <td>413</td>\n",
       "      <td>4</td>\n",
       "      <td>0.056216</td>\n",
       "      <td>0.102832</td>\n",
       "      <td>0.086729</td>\n",
       "      <td>0.127982</td>\n",
       "      <td>0.001919</td>\n",
       "      <td>0.001361</td>\n",
       "      <td>0.079792</td>\n",
       "      <td>...</td>\n",
       "      <td>1.047625</td>\n",
       "      <td>0.797822</td>\n",
       "      <td>1.005463</td>\n",
       "      <td>1.118118</td>\n",
       "      <td>0.773203</td>\n",
       "      <td>1.021851</td>\n",
       "      <td>47</td>\n",
       "      <td>35.538442</td>\n",
       "      <td>C</td>\n",
       "      <td>2</td>\n",
       "    </tr>\n",
       "    <tr>\n",
       "      <th>4</th>\n",
       "      <td>510</td>\n",
       "      <td>413</td>\n",
       "      <td>6</td>\n",
       "      <td>0.064922</td>\n",
       "      <td>0.102404</td>\n",
       "      <td>0.000573</td>\n",
       "      <td>0.052266</td>\n",
       "      <td>0.001837</td>\n",
       "      <td>0.002049</td>\n",
       "      <td>0.059537</td>\n",
       "      <td>...</td>\n",
       "      <td>1.044787</td>\n",
       "      <td>0.780821</td>\n",
       "      <td>1.009273</td>\n",
       "      <td>1.084354</td>\n",
       "      <td>0.820851</td>\n",
       "      <td>1.027245</td>\n",
       "      <td>47</td>\n",
       "      <td>35.538442</td>\n",
       "      <td>C</td>\n",
       "      <td>2</td>\n",
       "    </tr>\n",
       "    <tr>\n",
       "      <th>...</th>\n",
       "      <td>...</td>\n",
       "      <td>...</td>\n",
       "      <td>...</td>\n",
       "      <td>...</td>\n",
       "      <td>...</td>\n",
       "      <td>...</td>\n",
       "      <td>...</td>\n",
       "      <td>...</td>\n",
       "      <td>...</td>\n",
       "      <td>...</td>\n",
       "      <td>...</td>\n",
       "      <td>...</td>\n",
       "      <td>...</td>\n",
       "      <td>...</td>\n",
       "      <td>...</td>\n",
       "      <td>...</td>\n",
       "      <td>...</td>\n",
       "      <td>...</td>\n",
       "      <td>...</td>\n",
       "      <td>...</td>\n",
       "      <td>...</td>\n",
       "    </tr>\n",
       "    <tr>\n",
       "      <th>70611</th>\n",
       "      <td>93</td>\n",
       "      <td>999910373</td>\n",
       "      <td>7</td>\n",
       "      <td>-0.019602</td>\n",
       "      <td>-0.001001</td>\n",
       "      <td>0.103706</td>\n",
       "      <td>0.140610</td>\n",
       "      <td>0.001320</td>\n",
       "      <td>0.001493</td>\n",
       "      <td>0.035459</td>\n",
       "      <td>...</td>\n",
       "      <td>1.094816</td>\n",
       "      <td>0.766321</td>\n",
       "      <td>1.150030</td>\n",
       "      <td>1.028103</td>\n",
       "      <td>0.776455</td>\n",
       "      <td>1.163370</td>\n",
       "      <td>53</td>\n",
       "      <td>21.651307</td>\n",
       "      <td>HC</td>\n",
       "      <td>2</td>\n",
       "    </tr>\n",
       "    <tr>\n",
       "      <th>70612</th>\n",
       "      <td>93</td>\n",
       "      <td>999910373</td>\n",
       "      <td>8</td>\n",
       "      <td>0.053761</td>\n",
       "      <td>0.060738</td>\n",
       "      <td>-0.024844</td>\n",
       "      <td>-0.006204</td>\n",
       "      <td>0.001334</td>\n",
       "      <td>0.002134</td>\n",
       "      <td>0.046960</td>\n",
       "      <td>...</td>\n",
       "      <td>1.164835</td>\n",
       "      <td>0.742256</td>\n",
       "      <td>1.134485</td>\n",
       "      <td>1.077298</td>\n",
       "      <td>0.753378</td>\n",
       "      <td>1.144916</td>\n",
       "      <td>53</td>\n",
       "      <td>21.651307</td>\n",
       "      <td>HC</td>\n",
       "      <td>2</td>\n",
       "    </tr>\n",
       "    <tr>\n",
       "      <th>70613</th>\n",
       "      <td>93</td>\n",
       "      <td>999910373</td>\n",
       "      <td>9</td>\n",
       "      <td>0.043214</td>\n",
       "      <td>0.068197</td>\n",
       "      <td>0.038681</td>\n",
       "      <td>0.053585</td>\n",
       "      <td>0.001676</td>\n",
       "      <td>0.001885</td>\n",
       "      <td>0.047020</td>\n",
       "      <td>...</td>\n",
       "      <td>1.174641</td>\n",
       "      <td>0.781061</td>\n",
       "      <td>1.103683</td>\n",
       "      <td>1.037734</td>\n",
       "      <td>0.764046</td>\n",
       "      <td>1.153042</td>\n",
       "      <td>53</td>\n",
       "      <td>21.651307</td>\n",
       "      <td>HC</td>\n",
       "      <td>2</td>\n",
       "    </tr>\n",
       "    <tr>\n",
       "      <th>70614</th>\n",
       "      <td>93</td>\n",
       "      <td>999910373</td>\n",
       "      <td>10</td>\n",
       "      <td>0.049181</td>\n",
       "      <td>0.060193</td>\n",
       "      <td>-0.036239</td>\n",
       "      <td>-0.007429</td>\n",
       "      <td>0.002073</td>\n",
       "      <td>0.001640</td>\n",
       "      <td>0.026953</td>\n",
       "      <td>...</td>\n",
       "      <td>1.136903</td>\n",
       "      <td>0.753482</td>\n",
       "      <td>1.167718</td>\n",
       "      <td>1.039462</td>\n",
       "      <td>0.779464</td>\n",
       "      <td>1.158905</td>\n",
       "      <td>53</td>\n",
       "      <td>21.651307</td>\n",
       "      <td>HC</td>\n",
       "      <td>2</td>\n",
       "    </tr>\n",
       "    <tr>\n",
       "      <th>70615</th>\n",
       "      <td>93</td>\n",
       "      <td>999910373</td>\n",
       "      <td>11</td>\n",
       "      <td>0.040421</td>\n",
       "      <td>0.063093</td>\n",
       "      <td>0.012097</td>\n",
       "      <td>0.026784</td>\n",
       "      <td>0.001303</td>\n",
       "      <td>0.001678</td>\n",
       "      <td>0.041747</td>\n",
       "      <td>...</td>\n",
       "      <td>1.178033</td>\n",
       "      <td>0.680349</td>\n",
       "      <td>1.185983</td>\n",
       "      <td>1.077844</td>\n",
       "      <td>0.726231</td>\n",
       "      <td>1.179667</td>\n",
       "      <td>53</td>\n",
       "      <td>21.651307</td>\n",
       "      <td>HC</td>\n",
       "      <td>2</td>\n",
       "    </tr>\n",
       "  </tbody>\n",
       "</table>\n",
       "<p>70616 rows × 29 columns</p>\n",
       "</div>"
      ],
      "text/plain": [
       "       SUBJECT_ID  SESSION_ID  TRIAL_ID  c_ml_min_r  c_ml_max_r  c_ml_min_l  \\\n",
       "0             510         413         1    0.087271    0.118247    0.087814   \n",
       "1             510         413         2    0.085806    0.128396    0.040212   \n",
       "2             510         413         3    0.073788    0.112735    0.049990   \n",
       "3             510         413         4    0.056216    0.102832    0.086729   \n",
       "4             510         413         6    0.064922    0.102404    0.000573   \n",
       "...           ...         ...       ...         ...         ...         ...   \n",
       "70611          93   999910373         7   -0.019602   -0.001001    0.103706   \n",
       "70612          93   999910373         8    0.053761    0.060738   -0.024844   \n",
       "70613          93   999910373         9    0.043214    0.068197    0.038681   \n",
       "70614          93   999910373        10    0.049181    0.060193   -0.036239   \n",
       "70615          93   999910373        11    0.040421    0.063093    0.012097   \n",
       "\n",
       "       c_ml_max_l  c_ap_slope_r  c_ap_slope_l  g_ml_max1_r  ...  g_v_max1_r  \\\n",
       "0        0.128115      0.001718      0.002493     0.072643  ...    1.035925   \n",
       "1        0.083074      0.001589      0.001834     0.072360  ...    1.009803   \n",
       "2        0.099952      0.001740      0.001734     0.059417  ...    1.010970   \n",
       "3        0.127982      0.001919      0.001361     0.079792  ...    1.047625   \n",
       "4        0.052266      0.001837      0.002049     0.059537  ...    1.044787   \n",
       "...           ...           ...           ...          ...  ...         ...   \n",
       "70611    0.140610      0.001320      0.001493     0.035459  ...    1.094816   \n",
       "70612   -0.006204      0.001334      0.002134     0.046960  ...    1.164835   \n",
       "70613    0.053585      0.001676      0.001885     0.047020  ...    1.174641   \n",
       "70614   -0.007429      0.002073      0.001640     0.026953  ...    1.136903   \n",
       "70615    0.026784      0.001303      0.001678     0.041747  ...    1.178033   \n",
       "\n",
       "       g_v_min_r  g_v_max2_r  g_v_max1_l  g_v_min_l  g_v_max2_l  AGE  \\\n",
       "0       0.818121    0.987930    1.083287   0.796622    1.003385   47   \n",
       "1       0.819649    0.991990    1.018526   0.837006    0.999401   47   \n",
       "2       0.823223    0.989883    1.049092   0.815221    1.003578   47   \n",
       "3       0.797822    1.005463    1.118118   0.773203    1.021851   47   \n",
       "4       0.780821    1.009273    1.084354   0.820851    1.027245   47   \n",
       "...          ...         ...         ...        ...         ...  ...   \n",
       "70611   0.766321    1.150030    1.028103   0.776455    1.163370   53   \n",
       "70612   0.742256    1.134485    1.077298   0.753378    1.144916   53   \n",
       "70613   0.781061    1.103683    1.037734   0.764046    1.153042   53   \n",
       "70614   0.753482    1.167718    1.039462   0.779464    1.158905   53   \n",
       "70615   0.680349    1.185983    1.077844   0.726231    1.179667   53   \n",
       "\n",
       "             BMI  CLASS_LABEL  SPEED  \n",
       "0      35.538442            C      2  \n",
       "1      35.538442            C      2  \n",
       "2      35.538442            C      2  \n",
       "3      35.538442            C      2  \n",
       "4      35.538442            C      2  \n",
       "...          ...          ...    ...  \n",
       "70611  21.651307           HC      2  \n",
       "70612  21.651307           HC      2  \n",
       "70613  21.651307           HC      2  \n",
       "70614  21.651307           HC      2  \n",
       "70615  21.651307           HC      2  \n",
       "\n",
       "[70616 rows x 29 columns]"
      ]
     },
     "execution_count": 2,
     "metadata": {},
     "output_type": "execute_result"
    }
   ],
   "source": [
    "df = pd.read_csv('../data/features_engineered.csv', encoding='utf-8')\n",
    "df"
   ]
  },
  {
   "cell_type": "code",
   "execution_count": 3,
   "id": "d60bffeb-87c7-458d-b9e9-a1e3aef5f685",
   "metadata": {},
   "outputs": [
    {
     "data": {
      "text/plain": [
       "BMI    26992\n",
       "dtype: int64"
      ]
     },
     "execution_count": 3,
     "metadata": {},
     "output_type": "execute_result"
    }
   ],
   "source": [
    "df.isna().sum().loc[lambda x : x>0].sort_values(ascending=False)"
   ]
  },
  {
   "cell_type": "code",
   "execution_count": 4,
   "id": "40e4e0f6-77b0-4405-9d2b-e2660925e695",
   "metadata": {},
   "outputs": [],
   "source": [
    "df.dropna(inplace=True)"
   ]
  },
  {
   "cell_type": "code",
   "execution_count": 5,
   "id": "1cf9d312-a03f-4db0-8182-74212d6ce544",
   "metadata": {},
   "outputs": [
    {
     "data": {
      "text/plain": [
       "(43624, 29)"
      ]
     },
     "execution_count": 5,
     "metadata": {},
     "output_type": "execute_result"
    }
   ],
   "source": [
    "df.shape"
   ]
  },
  {
   "cell_type": "code",
   "execution_count": 6,
   "id": "31787c19-e81f-4007-a7d0-6d66e2614646",
   "metadata": {
    "scrolled": true,
    "tags": []
   },
   "outputs": [
    {
     "data": {
      "text/plain": [
       "Index(['SUBJECT_ID', 'SESSION_ID', 'TRIAL_ID', 'c_ml_min_r', 'c_ml_max_r',\n",
       "       'c_ml_min_l', 'c_ml_max_l', 'c_ap_slope_r', 'c_ap_slope_l',\n",
       "       'g_ml_max1_r', 'g_ml_min_r', 'g_ml_max2_r', 'g_ml_max1_l', 'g_ml_min_l',\n",
       "       'g_ml_max2_l', 'g_ap_min_r', 'g_ap_max_r', 'g_ap_min_l', 'g_ap_max_l',\n",
       "       'g_v_max1_r', 'g_v_min_r', 'g_v_max2_r', 'g_v_max1_l', 'g_v_min_l',\n",
       "       'g_v_max2_l', 'AGE', 'BMI', 'CLASS_LABEL', 'SPEED'],\n",
       "      dtype='object')"
      ]
     },
     "execution_count": 6,
     "metadata": {},
     "output_type": "execute_result"
    }
   ],
   "source": [
    "df.columns"
   ]
  },
  {
   "cell_type": "markdown",
   "id": "131398b3-b270-45bc-9d5c-c7cb0c905e44",
   "metadata": {},
   "source": [
    "### Neural Network using 23 engineered features"
   ]
  },
  {
   "cell_type": "code",
   "execution_count": 7,
   "id": "d3803170-4644-43fa-8e92-0681e6bfe662",
   "metadata": {},
   "outputs": [
    {
     "name": "stdout",
     "output_type": "stream",
     "text": [
      "[0 0 0 ... 4 4 4]\n",
      "Index(['C', 'K', 'H', 'A', 'HC'], dtype='object')\n"
     ]
    }
   ],
   "source": [
    "factorised_labels, original_labels = df['CLASS_LABEL'].factorize()\n",
    "print(factorised_labels)\n",
    "print(original_labels)"
   ]
  },
  {
   "cell_type": "code",
   "execution_count": 8,
   "id": "5e0e998b-5085-4896-afc2-45071179f38d",
   "metadata": {},
   "outputs": [
    {
     "data": {
      "text/plain": [
       "array([[1., 0., 0., 0., 0.],\n",
       "       [1., 0., 0., 0., 0.],\n",
       "       [1., 0., 0., 0., 0.],\n",
       "       ...,\n",
       "       [0., 0., 0., 0., 1.],\n",
       "       [0., 0., 0., 0., 1.],\n",
       "       [0., 0., 0., 0., 1.]], dtype=float32)"
      ]
     },
     "execution_count": 8,
     "metadata": {},
     "output_type": "execute_result"
    }
   ],
   "source": [
    "#prepare the data\n",
    "X= df[['c_ml_min_r', 'c_ml_max_r',\n",
    "       'c_ml_min_l', 'c_ml_max_l', 'c_ap_slope_r', 'c_ap_slope_l',\n",
    "       'g_ml_max1_r', 'g_ml_min_r', 'g_ml_max2_r', 'g_ml_max1_l', 'g_ml_min_l',\n",
    "       'g_ml_max2_l', 'g_ap_min_r', 'g_ap_max_r', 'g_ap_min_l', 'g_ap_max_l',\n",
    "       'g_v_max1_r', 'g_v_min_r', 'g_v_max2_r', 'g_v_max1_l', 'g_v_min_l',\n",
    "       'g_v_max2_l','AGE','BMI']]\n",
    "y = np_utils.to_categorical(factorised_labels)\n",
    "y"
   ]
  },
  {
   "cell_type": "code",
   "execution_count": 9,
   "id": "ccc43db8-8948-4527-ad5e-0cdec279df09",
   "metadata": {},
   "outputs": [],
   "source": [
    "X_train, X_test, y_train, y_test = train_test_split(X, y, test_size=0.25, random_state=42,stratify=y)"
   ]
  },
  {
   "cell_type": "code",
   "execution_count": 10,
   "id": "92ad0781-6974-4fbf-98fe-f4419b0ce893",
   "metadata": {},
   "outputs": [
    {
     "data": {
      "text/plain": [
       "(32718, 24)"
      ]
     },
     "execution_count": 10,
     "metadata": {},
     "output_type": "execute_result"
    }
   ],
   "source": [
    "X_train.shape"
   ]
  },
  {
   "cell_type": "markdown",
   "id": "d5e682e5-3ae2-4757-b9ec-be22fb0f95bf",
   "metadata": {},
   "source": [
    "Steps to improve NN accuracy via Keras API used: \n",
    "* https://keras.io/api/layers\n",
    "* https://towardsdatascience.com/explainable-deep-neural-networks-2f40b89d4d6f\n",
    "* https://stackoverflow.com/questions/58869736/is-it-safe-to-use-the-same-initializer-regularizer-and-constraint-for-multiple\n",
    "* Model : Sequential\n",
    "* Pre-processing layer: Normalization\n",
    "* Input layer: Dense, Relu activation\n",
    "* Hidden layer: Dense, ReLu activation with regularisation\n",
    "* Regularisation layer: Dropout\n",
    "* Output layer: Dense, Softmax activation\n",
    "\n",
    "ReLUs is chosen over sigmoid as it mitigates the vanishing gradient issues when more layers are added.\n",
    "* Info: https://stats.stackexchange.com/questions/126238/what-are-the-advantages-of-relu-over-sigmoid-function-in-deep-neural-networks\n",
    "\n",
    "Choosing number of hidden layers and number of units in Feed-forward neural network:\n",
    "* Number of hidden layers equals one\n",
    "* Number of neurons in that layer is the mean of the neurons in the input and output layers. (24+5)/2 ~ 15\n",
    "* Reference: https://stats.stackexchange.com/questions/181/how-to-choose-the-number-of-hidden-layers-and-nodes-in-a-feedforward-neural-netw\n",
    "\n",
    "Choose epoch and batch size:\n",
    "* https://datascience.stackexchange.com/questions/32306/in-which-epoch-should-i-stop-the-training-to-avoid-overfitting\n",
    "* https://stats.stackexchange.com/questions/153531/what-is-batch-size-in-neural-network\n",
    "\n",
    "Types of keras NN models:\n",
    "* https://www.kaggle.com/code/yasserh/tutorial-on-types-of-keras-models\n",
    "* Dropout layer removed for first model as it reduces the accuracy"
   ]
  },
  {
   "cell_type": "code",
   "execution_count": 11,
   "id": "46443cf9-3dd5-4df5-b6e1-c275f6f869ed",
   "metadata": {},
   "outputs": [
    {
     "name": "stdout",
     "output_type": "stream",
     "text": [
      "Model: \"sequential\"\n",
      "_________________________________________________________________\n",
      " Layer (type)                Output Shape              Param #   \n",
      "=================================================================\n",
      " normalization (Normalizatio  (None, 24)               49        \n",
      " n)                                                              \n",
      "                                                                 \n",
      " dense (Dense)               (None, 24)                600       \n",
      "                                                                 \n",
      " dense_1 (Dense)             (None, 14)                350       \n",
      "                                                                 \n",
      " dense_2 (Dense)             (None, 5)                 75        \n",
      "                                                                 \n",
      "=================================================================\n",
      "Total params: 1,074\n",
      "Trainable params: 1,025\n",
      "Non-trainable params: 49\n",
      "_________________________________________________________________\n"
     ]
    }
   ],
   "source": [
    "#create normalisation layer and set initial state using training data\n",
    "normalization_layer = Normalization()\n",
    "normalization_layer.adapt(X_train)\n",
    "\n",
    "#Callbacks: early stopping\n",
    "callback = c.EarlyStopping(monitor='loss', patience=3)\n",
    "\n",
    "#Dimensions\n",
    "input_dim = X_train.shape[1]\n",
    "output_dim = y_train.shape[1]\n",
    "hidden_dim = round((input_dim+output_dim)/2)\n",
    "\n",
    "#Add layers to sequential model\n",
    "model = Sequential()\n",
    "model.add(normalization_layer)\n",
    "model.add(Dense(input_dim, activation='relu',kernel_initializer='random_normal')) \n",
    "model.add(Dense(hidden_dim, activation='relu',kernel_initializer='random_normal',kernel_regularizer=regularizers.l2(0.01)))\n",
    "model.add(Dense(output_dim, activation='softmax',kernel_initializer='random_normal'))\n",
    "model.compile(optimizer='adam', metrics=['acc'], loss='categorical_crossentropy')\n",
    "model.summary()"
   ]
  },
  {
   "cell_type": "code",
   "execution_count": 12,
   "id": "f51cf436-5c96-4baf-9d68-9099c05f4cce",
   "metadata": {},
   "outputs": [
    {
     "name": "stdout",
     "output_type": "stream",
     "text": [
      "CPU times: total: 28.7 s\n",
      "Wall time: 1min 23s\n"
     ]
    }
   ],
   "source": [
    "%%time\n",
    "# Fit the model and save into history\n",
    "history = model.fit(X_train, y_train, batch_size=100, epochs=100, validation_data=(X_test, y_test),verbose=0,callbacks=[callback])"
   ]
  },
  {
   "cell_type": "code",
   "execution_count": 13,
   "id": "1ea4f8cb-607e-47c0-9e44-0a64ec9b4daf",
   "metadata": {},
   "outputs": [
    {
     "data": {
      "image/png": "[encoded data removed]",
      "text/plain": [
       "<Figure size 640x480 with 1 Axes>"
      ]
     },
     "metadata": {},
     "output_type": "display_data"
    }
   ],
   "source": [
    "#plot\n",
    "plt.plot(history.history['acc'])\n",
    "plt.plot(history.history['val_acc'])\n",
    "plt.title('Accuracy For NN with 23 Engineered Features')\n",
    "plt.ylabel('accuracy')\n",
    "plt.xlabel('epoch')\n",
    "plt.legend(['train', 'val'], loc='upper left')\n",
    "plt.show()"
   ]
  },
  {
   "cell_type": "code",
   "execution_count": 14,
   "id": "15d2daad-b78b-4798-bc4a-47886fee486d",
   "metadata": {},
   "outputs": [
    {
     "name": "stdout",
     "output_type": "stream",
     "text": [
      "341/341 [==============================] - 1s 2ms/step\n"
     ]
    },
    {
     "data": {
      "text/plain": [
       "array([2, 4, 0, ..., 3, 1, 2], dtype=int64)"
      ]
     },
     "execution_count": 14,
     "metadata": {},
     "output_type": "execute_result"
    }
   ],
   "source": [
    "#Predict\n",
    "pred_labels = np.argmax(model.predict(X_test),axis=1)\n",
    "pred_labels"
   ]
  },
  {
   "cell_type": "code",
   "execution_count": 15,
   "id": "55a74dbf-f31c-49f1-b3ca-d72c521bfcd6",
   "metadata": {},
   "outputs": [
    {
     "data": {
      "text/plain": [
       "array([2, 4, 0, ..., 1, 1, 2], dtype=int64)"
      ]
     },
     "execution_count": 15,
     "metadata": {},
     "output_type": "execute_result"
    }
   ],
   "source": [
    "y_test_labels=np.argmax(y_test,axis=1)\n",
    "y_test_labels"
   ]
  },
  {
   "cell_type": "code",
   "execution_count": 16,
   "id": "cd7e3a66-b063-42d4-ae0b-5a46408d5a77",
   "metadata": {},
   "outputs": [
    {
     "data": {
      "text/plain": [
       "0.6377223546671557"
      ]
     },
     "execution_count": 16,
     "metadata": {},
     "output_type": "execute_result"
    }
   ],
   "source": [
    "accuracy_score(y_test_labels,pred_labels)"
   ]
  },
  {
   "cell_type": "code",
   "execution_count": 17,
   "id": "e8f58bcc-eae6-45a5-9f8f-1d887fbe3719",
   "metadata": {},
   "outputs": [
    {
     "name": "stdout",
     "output_type": "stream",
     "text": [
      "[[1210  102   43  539   10]\n",
      " [  77 1614  374  673  106]\n",
      " [  46  337  923  233   96]\n",
      " [ 320  410  178 2868   87]\n",
      " [   8  121   86  105  340]]\n"
     ]
    }
   ],
   "source": [
    "#Create confusion matrix\n",
    "cm = confusion_matrix(y_test_labels, pred_labels)\n",
    "print(cm)"
   ]
  },
  {
   "cell_type": "code",
   "execution_count": 18,
   "id": "0a5d49c7-8d9f-48c4-a329-59f6fb6d8f6a",
   "metadata": {},
   "outputs": [
    {
     "data": {
      "image/png": "[encoded data removed]",
      "text/plain": [
       "<Figure size 640x480 with 2 Axes>"
      ]
     },
     "metadata": {},
     "output_type": "display_data"
    }
   ],
   "source": [
    "ax= plt.subplot()\n",
    "sns.heatmap(cm, annot=True, fmt='g', ax=ax, cmap=sns.color_palette(\"coolwarm\", 8), linewidths=1, linecolor='w');\n",
    "\n",
    "ax.set_xlabel('Predicted labels');ax.set_ylabel('True labels'); \n",
    "ax.set_title('Confusion Matrix For NN with 23 Engineered Features'); \n",
    "ax.xaxis.set_ticklabels(original_labels); \n",
    "ax.yaxis.set_ticklabels(original_labels);"
   ]
  },
  {
   "cell_type": "code",
   "execution_count": 19,
   "id": "f28cc34c-c7b3-4383-9ae6-8b8c6ad2a733",
   "metadata": {},
   "outputs": [],
   "source": [
    "def confusion_matrix_metrics(cls, cm):\n",
    "    TP = cm[cls, cls]\n",
    "    FN = cm[cls].sum() - TP\n",
    "    FP = cm[:, cls].sum() - TP\n",
    "    TN = cm.sum() - TP - FN - FP\n",
    "    return np.array([[TP, FN], [FP, TN]])"
   ]
  },
  {
   "cell_type": "code",
   "execution_count": 20,
   "id": "6d33d754-ab38-472a-ac96-cf27ddf1629a",
   "metadata": {},
   "outputs": [
    {
     "name": "stdout",
     "output_type": "stream",
     "text": [
      "[Class C vs others]\n",
      "TP: 1210, FN: 694, FP: 451, TN: 8551\n",
      "[Class K vs others]\n",
      "TP: 1614, FN: 1230, FP: 970, TN: 7092\n",
      "[Class H vs others]\n",
      "TP: 923, FN: 712, FP: 681, TN: 8590\n",
      "[Class A vs others]\n",
      "TP: 2868, FN: 995, FP: 1550, TN: 5493\n",
      "[Class HC vs others]\n",
      "TP: 340, FN: 320, FP: 299, TN: 9947\n"
     ]
    }
   ],
   "source": [
    "for cls in range(cm.shape[0]):\n",
    "    print(f'[Class {original_labels[cls]} vs others]')\n",
    "    TP, FN, FP, TN = confusion_matrix_metrics(cls, cm).ravel()\n",
    "    print(f'TP: {TP}, FN: {FN}, FP: {FP}, TN: {TN}')"
   ]
  },
  {
   "cell_type": "code",
   "execution_count": 21,
   "id": "c18b53b5-6b2d-452e-b37a-72827ee9743c",
   "metadata": {},
   "outputs": [
    {
     "name": "stdout",
     "output_type": "stream",
     "text": [
      "              precision    recall  f1-score   support\n",
      "\n",
      "           C       0.73      0.64      0.68      1904\n",
      "           K       0.62      0.57      0.59      2844\n",
      "           H       0.58      0.56      0.57      1635\n",
      "           A       0.65      0.74      0.69      3863\n",
      "          HC       0.53      0.52      0.52       660\n",
      "\n",
      "    accuracy                           0.64     10906\n",
      "   macro avg       0.62      0.61      0.61     10906\n",
      "weighted avg       0.64      0.64      0.64     10906\n",
      "\n"
     ]
    }
   ],
   "source": [
    "print(classification_report(y_test_labels, pred_labels,target_names=original_labels))"
   ]
  },
  {
   "cell_type": "markdown",
   "id": "e2f7dce3-1653-42b3-ac59-a59ab9718f39",
   "metadata": {},
   "source": [
    "**Findings**\n",
    "* A, C, H, HC, K\n",
    "* macro avg is the average of the precision / recall for all classes\n",
    "* For prediction, we aim to reduce false nagative to capture all walking issues, hence recall is chaosen to be more important metric\n",
    "* Support is the number of actual occurrences of the class in the specified dataset, the class distribution is not too imbalanced towards class 1 and 3"
   ]
  },
  {
   "cell_type": "markdown",
   "id": "811b3b4a-842b-435e-984b-2971499672f5",
   "metadata": {},
   "source": [
    "## Neural Network using original 1000 features"
   ]
  },
  {
   "cell_type": "code",
   "execution_count": 22,
   "id": "eac62381-5904-47ca-9a52-1302ce4487de",
   "metadata": {},
   "outputs": [
    {
     "data": {
      "text/html": [
       "<div>\n",
       "<style scoped>\n",
       "    .dataframe tbody tr th:only-of-type {\n",
       "        vertical-align: middle;\n",
       "    }\n",
       "\n",
       "    .dataframe tbody tr th {\n",
       "        vertical-align: top;\n",
       "    }\n",
       "\n",
       "    .dataframe thead th {\n",
       "        text-align: right;\n",
       "    }\n",
       "</style>\n",
       "<table border=\"1\" class=\"dataframe\">\n",
       "  <thead>\n",
       "    <tr style=\"text-align: right;\">\n",
       "      <th></th>\n",
       "      <th>SUBJECT_ID</th>\n",
       "      <th>SESSION_ID</th>\n",
       "      <th>TRIAL_ID</th>\n",
       "      <th>0_cmlr</th>\n",
       "      <th>1_cmlr</th>\n",
       "      <th>2_cmlr</th>\n",
       "      <th>3_cmlr</th>\n",
       "      <th>4_cmlr</th>\n",
       "      <th>5_cmlr</th>\n",
       "      <th>6_cmlr</th>\n",
       "      <th>...</th>\n",
       "      <th>94_gvl</th>\n",
       "      <th>95_gvl</th>\n",
       "      <th>96_gvl</th>\n",
       "      <th>97_gvl</th>\n",
       "      <th>98_gvl</th>\n",
       "      <th>99_gvl</th>\n",
       "      <th>AGE</th>\n",
       "      <th>BMI</th>\n",
       "      <th>SPEED</th>\n",
       "      <th>CLASS_LABEL</th>\n",
       "    </tr>\n",
       "  </thead>\n",
       "  <tbody>\n",
       "    <tr>\n",
       "      <th>0</th>\n",
       "      <td>510</td>\n",
       "      <td>413</td>\n",
       "      <td>1</td>\n",
       "      <td>0.090489</td>\n",
       "      <td>0.088296</td>\n",
       "      <td>0.090543</td>\n",
       "      <td>0.088585</td>\n",
       "      <td>0.088419</td>\n",
       "      <td>0.087271</td>\n",
       "      <td>0.087643</td>\n",
       "      <td>...</td>\n",
       "      <td>0.206161</td>\n",
       "      <td>0.157969</td>\n",
       "      <td>0.114536</td>\n",
       "      <td>0.078322</td>\n",
       "      <td>0.051086</td>\n",
       "      <td>0.030038</td>\n",
       "      <td>47</td>\n",
       "      <td>35.538442</td>\n",
       "      <td>2</td>\n",
       "      <td>C</td>\n",
       "    </tr>\n",
       "    <tr>\n",
       "      <th>1</th>\n",
       "      <td>510</td>\n",
       "      <td>413</td>\n",
       "      <td>2</td>\n",
       "      <td>0.099445</td>\n",
       "      <td>0.085806</td>\n",
       "      <td>0.092521</td>\n",
       "      <td>0.089278</td>\n",
       "      <td>0.092119</td>\n",
       "      <td>0.090495</td>\n",
       "      <td>0.091194</td>\n",
       "      <td>...</td>\n",
       "      <td>0.193967</td>\n",
       "      <td>0.150712</td>\n",
       "      <td>0.109526</td>\n",
       "      <td>0.073994</td>\n",
       "      <td>0.048843</td>\n",
       "      <td>0.028040</td>\n",
       "      <td>47</td>\n",
       "      <td>35.538442</td>\n",
       "      <td>2</td>\n",
       "      <td>C</td>\n",
       "    </tr>\n",
       "    <tr>\n",
       "      <th>2</th>\n",
       "      <td>510</td>\n",
       "      <td>413</td>\n",
       "      <td>3</td>\n",
       "      <td>0.080434</td>\n",
       "      <td>0.073788</td>\n",
       "      <td>0.076158</td>\n",
       "      <td>0.074499</td>\n",
       "      <td>0.074923</td>\n",
       "      <td>0.074800</td>\n",
       "      <td>0.075813</td>\n",
       "      <td>...</td>\n",
       "      <td>0.207438</td>\n",
       "      <td>0.159884</td>\n",
       "      <td>0.116295</td>\n",
       "      <td>0.077046</td>\n",
       "      <td>0.050402</td>\n",
       "      <td>0.028532</td>\n",
       "      <td>47</td>\n",
       "      <td>35.538442</td>\n",
       "      <td>2</td>\n",
       "      <td>C</td>\n",
       "    </tr>\n",
       "    <tr>\n",
       "      <th>3</th>\n",
       "      <td>510</td>\n",
       "      <td>413</td>\n",
       "      <td>4</td>\n",
       "      <td>0.072603</td>\n",
       "      <td>0.056216</td>\n",
       "      <td>0.062936</td>\n",
       "      <td>0.058685</td>\n",
       "      <td>0.061489</td>\n",
       "      <td>0.060092</td>\n",
       "      <td>0.061455</td>\n",
       "      <td>...</td>\n",
       "      <td>0.200746</td>\n",
       "      <td>0.153727</td>\n",
       "      <td>0.111913</td>\n",
       "      <td>0.075615</td>\n",
       "      <td>0.050814</td>\n",
       "      <td>0.029449</td>\n",
       "      <td>47</td>\n",
       "      <td>35.538442</td>\n",
       "      <td>2</td>\n",
       "      <td>C</td>\n",
       "    </tr>\n",
       "    <tr>\n",
       "      <th>4</th>\n",
       "      <td>510</td>\n",
       "      <td>413</td>\n",
       "      <td>6</td>\n",
       "      <td>0.076400</td>\n",
       "      <td>0.064922</td>\n",
       "      <td>0.069484</td>\n",
       "      <td>0.067106</td>\n",
       "      <td>0.067142</td>\n",
       "      <td>0.065643</td>\n",
       "      <td>0.066555</td>\n",
       "      <td>...</td>\n",
       "      <td>0.226931</td>\n",
       "      <td>0.175726</td>\n",
       "      <td>0.127687</td>\n",
       "      <td>0.084625</td>\n",
       "      <td>0.054879</td>\n",
       "      <td>0.030352</td>\n",
       "      <td>47</td>\n",
       "      <td>35.538442</td>\n",
       "      <td>2</td>\n",
       "      <td>C</td>\n",
       "    </tr>\n",
       "    <tr>\n",
       "      <th>...</th>\n",
       "      <td>...</td>\n",
       "      <td>...</td>\n",
       "      <td>...</td>\n",
       "      <td>...</td>\n",
       "      <td>...</td>\n",
       "      <td>...</td>\n",
       "      <td>...</td>\n",
       "      <td>...</td>\n",
       "      <td>...</td>\n",
       "      <td>...</td>\n",
       "      <td>...</td>\n",
       "      <td>...</td>\n",
       "      <td>...</td>\n",
       "      <td>...</td>\n",
       "      <td>...</td>\n",
       "      <td>...</td>\n",
       "      <td>...</td>\n",
       "      <td>...</td>\n",
       "      <td>...</td>\n",
       "      <td>...</td>\n",
       "      <td>...</td>\n",
       "    </tr>\n",
       "    <tr>\n",
       "      <th>70611</th>\n",
       "      <td>93</td>\n",
       "      <td>999910373</td>\n",
       "      <td>7</td>\n",
       "      <td>-0.017693</td>\n",
       "      <td>-0.014078</td>\n",
       "      <td>-0.019602</td>\n",
       "      <td>-0.018559</td>\n",
       "      <td>-0.016351</td>\n",
       "      <td>-0.017482</td>\n",
       "      <td>-0.013853</td>\n",
       "      <td>...</td>\n",
       "      <td>0.244534</td>\n",
       "      <td>0.164482</td>\n",
       "      <td>0.076021</td>\n",
       "      <td>0.066762</td>\n",
       "      <td>0.031144</td>\n",
       "      <td>0.058902</td>\n",
       "      <td>53</td>\n",
       "      <td>21.651307</td>\n",
       "      <td>2</td>\n",
       "      <td>HC</td>\n",
       "    </tr>\n",
       "    <tr>\n",
       "      <th>70612</th>\n",
       "      <td>93</td>\n",
       "      <td>999910373</td>\n",
       "      <td>8</td>\n",
       "      <td>0.058477</td>\n",
       "      <td>0.057364</td>\n",
       "      <td>0.055491</td>\n",
       "      <td>0.053761</td>\n",
       "      <td>0.055107</td>\n",
       "      <td>0.055427</td>\n",
       "      <td>0.056744</td>\n",
       "      <td>...</td>\n",
       "      <td>0.526146</td>\n",
       "      <td>0.406308</td>\n",
       "      <td>0.281442</td>\n",
       "      <td>0.175061</td>\n",
       "      <td>0.087550</td>\n",
       "      <td>0.043759</td>\n",
       "      <td>53</td>\n",
       "      <td>21.651307</td>\n",
       "      <td>2</td>\n",
       "      <td>HC</td>\n",
       "    </tr>\n",
       "    <tr>\n",
       "      <th>70613</th>\n",
       "      <td>93</td>\n",
       "      <td>999910373</td>\n",
       "      <td>9</td>\n",
       "      <td>0.064663</td>\n",
       "      <td>0.052117</td>\n",
       "      <td>0.043214</td>\n",
       "      <td>0.058298</td>\n",
       "      <td>0.049768</td>\n",
       "      <td>0.055759</td>\n",
       "      <td>0.054642</td>\n",
       "      <td>...</td>\n",
       "      <td>0.495094</td>\n",
       "      <td>0.389999</td>\n",
       "      <td>0.274723</td>\n",
       "      <td>0.182228</td>\n",
       "      <td>0.093029</td>\n",
       "      <td>0.050763</td>\n",
       "      <td>53</td>\n",
       "      <td>21.651307</td>\n",
       "      <td>2</td>\n",
       "      <td>HC</td>\n",
       "    </tr>\n",
       "    <tr>\n",
       "      <th>70614</th>\n",
       "      <td>93</td>\n",
       "      <td>999910373</td>\n",
       "      <td>10</td>\n",
       "      <td>0.060062</td>\n",
       "      <td>0.055547</td>\n",
       "      <td>0.049181</td>\n",
       "      <td>0.050987</td>\n",
       "      <td>0.052540</td>\n",
       "      <td>0.053151</td>\n",
       "      <td>0.054697</td>\n",
       "      <td>...</td>\n",
       "      <td>0.480650</td>\n",
       "      <td>0.360813</td>\n",
       "      <td>0.241422</td>\n",
       "      <td>0.147052</td>\n",
       "      <td>0.071328</td>\n",
       "      <td>0.043721</td>\n",
       "      <td>53</td>\n",
       "      <td>21.651307</td>\n",
       "      <td>2</td>\n",
       "      <td>HC</td>\n",
       "    </tr>\n",
       "    <tr>\n",
       "      <th>70615</th>\n",
       "      <td>93</td>\n",
       "      <td>999910373</td>\n",
       "      <td>11</td>\n",
       "      <td>0.054234</td>\n",
       "      <td>0.040421</td>\n",
       "      <td>0.040580</td>\n",
       "      <td>0.048633</td>\n",
       "      <td>0.043152</td>\n",
       "      <td>0.048884</td>\n",
       "      <td>0.048611</td>\n",
       "      <td>...</td>\n",
       "      <td>0.478361</td>\n",
       "      <td>0.376763</td>\n",
       "      <td>0.238556</td>\n",
       "      <td>0.161428</td>\n",
       "      <td>0.058396</td>\n",
       "      <td>0.066232</td>\n",
       "      <td>53</td>\n",
       "      <td>21.651307</td>\n",
       "      <td>2</td>\n",
       "      <td>HC</td>\n",
       "    </tr>\n",
       "  </tbody>\n",
       "</table>\n",
       "<p>70616 rows × 1007 columns</p>\n",
       "</div>"
      ],
      "text/plain": [
       "       SUBJECT_ID  SESSION_ID  TRIAL_ID    0_cmlr    1_cmlr    2_cmlr  \\\n",
       "0             510         413         1  0.090489  0.088296  0.090543   \n",
       "1             510         413         2  0.099445  0.085806  0.092521   \n",
       "2             510         413         3  0.080434  0.073788  0.076158   \n",
       "3             510         413         4  0.072603  0.056216  0.062936   \n",
       "4             510         413         6  0.076400  0.064922  0.069484   \n",
       "...           ...         ...       ...       ...       ...       ...   \n",
       "70611          93   999910373         7 -0.017693 -0.014078 -0.019602   \n",
       "70612          93   999910373         8  0.058477  0.057364  0.055491   \n",
       "70613          93   999910373         9  0.064663  0.052117  0.043214   \n",
       "70614          93   999910373        10  0.060062  0.055547  0.049181   \n",
       "70615          93   999910373        11  0.054234  0.040421  0.040580   \n",
       "\n",
       "         3_cmlr    4_cmlr    5_cmlr    6_cmlr  ...    94_gvl    95_gvl  \\\n",
       "0      0.088585  0.088419  0.087271  0.087643  ...  0.206161  0.157969   \n",
       "1      0.089278  0.092119  0.090495  0.091194  ...  0.193967  0.150712   \n",
       "2      0.074499  0.074923  0.074800  0.075813  ...  0.207438  0.159884   \n",
       "3      0.058685  0.061489  0.060092  0.061455  ...  0.200746  0.153727   \n",
       "4      0.067106  0.067142  0.065643  0.066555  ...  0.226931  0.175726   \n",
       "...         ...       ...       ...       ...  ...       ...       ...   \n",
       "70611 -0.018559 -0.016351 -0.017482 -0.013853  ...  0.244534  0.164482   \n",
       "70612  0.053761  0.055107  0.055427  0.056744  ...  0.526146  0.406308   \n",
       "70613  0.058298  0.049768  0.055759  0.054642  ...  0.495094  0.389999   \n",
       "70614  0.050987  0.052540  0.053151  0.054697  ...  0.480650  0.360813   \n",
       "70615  0.048633  0.043152  0.048884  0.048611  ...  0.478361  0.376763   \n",
       "\n",
       "         96_gvl    97_gvl    98_gvl    99_gvl  AGE        BMI  SPEED  \\\n",
       "0      0.114536  0.078322  0.051086  0.030038   47  35.538442      2   \n",
       "1      0.109526  0.073994  0.048843  0.028040   47  35.538442      2   \n",
       "2      0.116295  0.077046  0.050402  0.028532   47  35.538442      2   \n",
       "3      0.111913  0.075615  0.050814  0.029449   47  35.538442      2   \n",
       "4      0.127687  0.084625  0.054879  0.030352   47  35.538442      2   \n",
       "...         ...       ...       ...       ...  ...        ...    ...   \n",
       "70611  0.076021  0.066762  0.031144  0.058902   53  21.651307      2   \n",
       "70612  0.281442  0.175061  0.087550  0.043759   53  21.651307      2   \n",
       "70613  0.274723  0.182228  0.093029  0.050763   53  21.651307      2   \n",
       "70614  0.241422  0.147052  0.071328  0.043721   53  21.651307      2   \n",
       "70615  0.238556  0.161428  0.058396  0.066232   53  21.651307      2   \n",
       "\n",
       "       CLASS_LABEL  \n",
       "0                C  \n",
       "1                C  \n",
       "2                C  \n",
       "3                C  \n",
       "4                C  \n",
       "...            ...  \n",
       "70611           HC  \n",
       "70612           HC  \n",
       "70613           HC  \n",
       "70614           HC  \n",
       "70615           HC  \n",
       "\n",
       "[70616 rows x 1007 columns]"
      ]
     },
     "execution_count": 22,
     "metadata": {},
     "output_type": "execute_result"
    }
   ],
   "source": [
    "df2 = pd.read_csv('../data/original_features.csv', encoding='utf-8')\n",
    "df2"
   ]
  },
  {
   "cell_type": "code",
   "execution_count": 23,
   "id": "a9e26443-2583-4221-8b98-1703bd17a12a",
   "metadata": {},
   "outputs": [],
   "source": [
    "df2.dropna(inplace=True)"
   ]
  },
  {
   "cell_type": "code",
   "execution_count": 24,
   "id": "549078ba-a1f0-4776-a9e8-8c3bde918a27",
   "metadata": {},
   "outputs": [
    {
     "data": {
      "text/plain": [
       "Series([], dtype: int64)"
      ]
     },
     "execution_count": 24,
     "metadata": {},
     "output_type": "execute_result"
    }
   ],
   "source": [
    "df2.isna().sum().loc[lambda x : x>0].sort_values(ascending=False)"
   ]
  },
  {
   "cell_type": "code",
   "execution_count": 25,
   "id": "7823faa3-beb9-48f5-a1ec-38e4c3c18382",
   "metadata": {},
   "outputs": [
    {
     "data": {
      "text/plain": [
       "array([[1., 0., 0., 0., 0.],\n",
       "       [1., 0., 0., 0., 0.],\n",
       "       [1., 0., 0., 0., 0.],\n",
       "       ...,\n",
       "       [0., 0., 0., 0., 1.],\n",
       "       [0., 0., 0., 0., 1.],\n",
       "       [0., 0., 0., 0., 1.]], dtype=float32)"
      ]
     },
     "execution_count": 25,
     "metadata": {},
     "output_type": "execute_result"
    }
   ],
   "source": [
    "#prepare the data\n",
    "X= df2.drop(['SUBJECT_ID','SESSION_ID','TRIAL_ID','SPEED','CLASS_LABEL'],axis=1)\n",
    "y= np_utils.to_categorical(df2['CLASS_LABEL'].factorize()[0])\n",
    "y"
   ]
  },
  {
   "cell_type": "code",
   "execution_count": 26,
   "id": "3d5a8658-a406-4711-9f07-449f74656ce5",
   "metadata": {},
   "outputs": [],
   "source": [
    "X_train, X_test, y_train, y_test = train_test_split(X, y, test_size=0.25, random_state=42,stratify=y)"
   ]
  },
  {
   "cell_type": "code",
   "execution_count": 27,
   "id": "0b2aab07-f7d0-416a-813c-a08e3fd64761",
   "metadata": {},
   "outputs": [
    {
     "data": {
      "text/plain": [
       "(32718, 1002)"
      ]
     },
     "execution_count": 27,
     "metadata": {},
     "output_type": "execute_result"
    }
   ],
   "source": [
    "X_train.shape"
   ]
  },
  {
   "cell_type": "code",
   "execution_count": 28,
   "id": "66146c19-cc4c-492c-9a5c-5fcc1770b8c5",
   "metadata": {},
   "outputs": [
    {
     "name": "stdout",
     "output_type": "stream",
     "text": [
      "Model: \"sequential_1\"\n",
      "_________________________________________________________________\n",
      " Layer (type)                Output Shape              Param #   \n",
      "=================================================================\n",
      " normalization_1 (Normalizat  (None, 1002)             2005      \n",
      " ion)                                                            \n",
      "                                                                 \n",
      " dense_3 (Dense)             (None, 1002)              1005006   \n",
      "                                                                 \n",
      " dense_4 (Dense)             (None, 504)               505512    \n",
      "                                                                 \n",
      " dropout (Dropout)           (None, 504)               0         \n",
      "                                                                 \n",
      " dense_5 (Dense)             (None, 5)                 2525      \n",
      "                                                                 \n",
      "=================================================================\n",
      "Total params: 1,515,048\n",
      "Trainable params: 1,513,043\n",
      "Non-trainable params: 2,005\n",
      "_________________________________________________________________\n"
     ]
    }
   ],
   "source": [
    "#create normalisation layer and set initial state using training data\n",
    "normalization_layer = Normalization()\n",
    "normalization_layer.adapt(X_train)\n",
    "\n",
    "#Callbacks: early stopping\n",
    "callback = c.EarlyStopping(monitor='loss', patience=3)\n",
    "\n",
    "#Dimensions\n",
    "input_dim = X_train.shape[1]\n",
    "output_dim = y_train.shape[1]\n",
    "hidden_dim = round((input_dim+output_dim)/2)\n",
    "\n",
    "#Add layers to sequential model\n",
    "model2 = Sequential()\n",
    "model2.add(normalization_layer)\n",
    "model2.add(Dense(input_dim, activation='relu',kernel_initializer='random_normal'))\n",
    "model2.add(Dense(hidden_dim, activation='relu',kernel_initializer='random_normal', kernel_regularizer='l2'))\n",
    "model2.add(Dropout(.5))\n",
    "model2.add(Dense(output_dim, activation='softmax',kernel_initializer='random_normal'))\n",
    "model2.compile(optimizer='adam', metrics=['acc'], loss='categorical_crossentropy')\n",
    "model2.summary()\n"
   ]
  },
  {
   "cell_type": "code",
   "execution_count": 29,
   "id": "31020d57-8a6b-4cd2-a563-63763084e579",
   "metadata": {},
   "outputs": [
    {
     "name": "stdout",
     "output_type": "stream",
     "text": [
      "CPU times: total: 3min 44s\n",
      "Wall time: 4min 57s\n"
     ]
    }
   ],
   "source": [
    "%%time\n",
    "# Fit the model and save into history\n",
    "history2 = model2.fit(X_train, y_train, batch_size=100, epochs=50, validation_data=(X_test, y_test),verbose=0,callbacks=[callback])"
   ]
  },
  {
   "cell_type": "code",
   "execution_count": 30,
   "id": "9f8f170f-5c50-47a2-a160-eb44a2e11e3f",
   "metadata": {},
   "outputs": [
    {
     "data": {
      "image/png": "[encoded data removed]",
      "text/plain": [
       "<Figure size 640x480 with 1 Axes>"
      ]
     },
     "metadata": {},
     "output_type": "display_data"
    }
   ],
   "source": [
    "#plot\n",
    "plt.plot(history2.history['acc'])\n",
    "plt.plot(history2.history['val_acc'])\n",
    "plt.title('Accuracy For NN with original 1000 Features')\n",
    "plt.ylabel('accuracy')\n",
    "plt.xlabel('epoch')\n",
    "plt.legend(['train', 'val'], loc='upper left')\n",
    "plt.show()"
   ]
  },
  {
   "cell_type": "code",
   "execution_count": 31,
   "id": "b03f8d46-b8a3-41bb-ac38-f1c8a20e5d6c",
   "metadata": {},
   "outputs": [
    {
     "name": "stdout",
     "output_type": "stream",
     "text": [
      "341/341 [==============================] - 3s 9ms/step\n"
     ]
    },
    {
     "data": {
      "text/plain": [
       "array([2, 4, 0, ..., 1, 1, 2], dtype=int64)"
      ]
     },
     "execution_count": 31,
     "metadata": {},
     "output_type": "execute_result"
    }
   ],
   "source": [
    "#Predict\n",
    "pred_labels_2 = np.argmax(model2.predict(X_test),axis=1)\n",
    "pred_labels_2"
   ]
  },
  {
   "cell_type": "code",
   "execution_count": 32,
   "id": "dff6b483-4199-4b97-a92a-1a1eab4b0bcf",
   "metadata": {},
   "outputs": [
    {
     "data": {
      "text/plain": [
       "array([2, 4, 0, ..., 1, 1, 2], dtype=int64)"
      ]
     },
     "execution_count": 32,
     "metadata": {},
     "output_type": "execute_result"
    }
   ],
   "source": [
    "y_test_labels_2=np.argmax(y_test,axis=1)\n",
    "y_test_labels_2"
   ]
  },
  {
   "cell_type": "code",
   "execution_count": 33,
   "id": "6748f81e-1825-4d7b-b73a-ad5fe0a46014",
   "metadata": {},
   "outputs": [
    {
     "data": {
      "text/plain": [
       "0.929213277095177"
      ]
     },
     "execution_count": 33,
     "metadata": {},
     "output_type": "execute_result"
    }
   ],
   "source": [
    "accuracy_score(y_test_labels_2,pred_labels_2)"
   ]
  },
  {
   "cell_type": "code",
   "execution_count": 34,
   "id": "3928f488-9060-4d30-8e9c-b8537c9116d9",
   "metadata": {},
   "outputs": [
    {
     "name": "stdout",
     "output_type": "stream",
     "text": [
      "[[1798    7   24   75    0]\n",
      " [  12 2627   83  100   22]\n",
      " [   4   25 1568   33    5]\n",
      " [  51   77   79 3636   20]\n",
      " [   6   42   52   55  505]]\n"
     ]
    }
   ],
   "source": [
    "#Create confusion matrix\n",
    "cm_2 = confusion_matrix(y_test_labels_2, pred_labels_2)\n",
    "print(cm_2)"
   ]
  },
  {
   "cell_type": "code",
   "execution_count": 35,
   "id": "1a5fa5c9-7ecc-4d21-8d6a-59e739b10edf",
   "metadata": {},
   "outputs": [
    {
     "data": {
      "image/png": "[encoded data removed]",
      "text/plain": [
       "<Figure size 640x480 with 2 Axes>"
      ]
     },
     "metadata": {},
     "output_type": "display_data"
    }
   ],
   "source": [
    "ax= plt.subplot()\n",
    "sns.heatmap(cm_2, annot=True, fmt='g', ax=ax, cmap=sns.color_palette(\"coolwarm\", 8), linewidths=1, linecolor='w');\n",
    "ax.set_xlabel('Predicted labels');ax.set_ylabel('True labels'); \n",
    "ax.set_title('Confusion Matrix For NN with original 1000 Features'); \n",
    "ax.xaxis.set_ticklabels(original_labels); \n",
    "ax.yaxis.set_ticklabels(original_labels);"
   ]
  },
  {
   "cell_type": "code",
   "execution_count": 36,
   "id": "895f98f5-8ad4-4d5e-b275-ca5a219acf63",
   "metadata": {},
   "outputs": [
    {
     "name": "stdout",
     "output_type": "stream",
     "text": [
      "[Class C vs others]\n",
      "TP: 1798, FN: 106, FP: 73, TN: 8929\n",
      "[Class K vs others]\n",
      "TP: 2627, FN: 217, FP: 151, TN: 7911\n",
      "[Class H vs others]\n",
      "TP: 1568, FN: 67, FP: 238, TN: 9033\n",
      "[Class A vs others]\n",
      "TP: 3636, FN: 227, FP: 263, TN: 6780\n",
      "[Class HC vs others]\n",
      "TP: 505, FN: 155, FP: 47, TN: 10199\n"
     ]
    }
   ],
   "source": [
    "for cls in range(cm_2.shape[0]):\n",
    "    print(f'[Class {original_labels[cls]} vs others]')\n",
    "    TP, FN, FP, TN = confusion_matrix_metrics(cls, cm_2).ravel()\n",
    "    print(f'TP: {TP}, FN: {FN}, FP: {FP}, TN: {TN}')"
   ]
  },
  {
   "cell_type": "code",
   "execution_count": 37,
   "id": "3f25adbf-833b-41a5-9438-afc9a891b2df",
   "metadata": {},
   "outputs": [
    {
     "name": "stdout",
     "output_type": "stream",
     "text": [
      "              precision    recall  f1-score   support\n",
      "\n",
      "           C       0.96      0.94      0.95      1904\n",
      "           K       0.95      0.92      0.93      2844\n",
      "           H       0.87      0.96      0.91      1635\n",
      "           A       0.93      0.94      0.94      3863\n",
      "          HC       0.91      0.77      0.83       660\n",
      "\n",
      "    accuracy                           0.93     10906\n",
      "   macro avg       0.92      0.91      0.91     10906\n",
      "weighted avg       0.93      0.93      0.93     10906\n",
      "\n"
     ]
    }
   ],
   "source": [
    "print(classification_report(y_test_labels_2, pred_labels_2, target_names=original_labels))"
   ]
  },
  {
   "cell_type": "markdown",
   "id": "4d8a00c7-176e-4ab2-ae39-0c5bf69d92b7",
   "metadata": {},
   "source": [
    "**Findings**\n",
    "* The accuracy is better using the original sensor readings of 1000 data points as features for each participant / trial"
   ]
  },
  {
   "cell_type": "code",
   "execution_count": null,
   "id": "f3ddefca-55d0-47c5-87dd-f42d0e458eaa",
   "metadata": {},
   "outputs": [],
   "source": []
  }
 ],
 "metadata": {
  "kernelspec": {
   "display_name": "dsi-sg",
   "language": "python",
   "name": "dsi-sg"
  },
  "language_info": {
   "codemirror_mode": {
    "name": "ipython",
    "version": 3
   },
   "file_extension": ".py",
   "mimetype": "text/x-python",
   "name": "python",
   "nbconvert_exporter": "python",
   "pygments_lexer": "ipython3",
   "version": "3.9.16"
  }
 },
 "nbformat": 4,
 "nbformat_minor": 5
}
