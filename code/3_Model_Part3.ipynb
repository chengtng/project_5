{
 "cells": [
  {
   "cell_type": "markdown",
   "id": "8304e1c8-28a6-4bc6-9751-5bb4f001531f",
   "metadata": {},
   "source": [
    "## Model Part 3\n",
    "* SVN using radial kernel, as data is overlapping in EDA pairplots and not visible linear separation\n",
    "* rbf kernel implicitly transforms input features into a higher dimensional space, and try find the hyperplane that separate them. Transformation is implicit, hence will not be able to map back to the original features.."
   ]
  },
  {
   "cell_type": "code",
   "execution_count": 1,
   "id": "f7014258-c042-4ad0-808a-bac7207ffc8b",
   "metadata": {},
   "outputs": [],
   "source": [
    "import warnings\n",
    "import pandas as pd\n",
    "import numpy as np\n",
    "import seaborn as sns\n",
    "import matplotlib.pyplot as plt\n",
    "import datetime as dt\n",
    "import matplotlib.patches as mpatches\n",
    "from matplotlib.colors import ListedColormap\n",
    "\n",
    "from sklearn.compose import ColumnTransformer\n",
    "from sklearn.pipeline import Pipeline\n",
    "from sklearn.impute import SimpleImputer\n",
    "from sklearn.preprocessing import StandardScaler, OneHotEncoder\n",
    "from sklearn.linear_model import LogisticRegression\n",
    "from sklearn.neighbors import KNeighborsClassifier\n",
    "from sklearn.tree import DecisionTreeClassifier\n",
    "from sklearn.ensemble import BaggingClassifier, RandomForestClassifier, AdaBoostClassifier, GradientBoostingClassifier\n",
    "from sklearn.naive_bayes import MultinomialNB\n",
    "from sklearn.model_selection import train_test_split, GridSearchCV, RandomizedSearchCV,cross_val_score, StratifiedShuffleSplit\n",
    "from sklearn.feature_selection import SelectPercentile, chi2\n",
    "from sklearn.metrics import confusion_matrix, plot_confusion_matrix, mean_squared_error, mean_absolute_percentage_error, accuracy_score\n",
    "from sklearn.metrics import multilabel_confusion_matrix\n",
    "from sklearn.metrics import classification_report\n",
    "from sklearn.svm import SVC\n",
    "\n",
    "sns.set_style('whitegrid') # set style for visualization\n",
    "warnings.filterwarnings('ignore')"
   ]
  },
  {
   "cell_type": "code",
   "execution_count": 2,
   "id": "a9b1aea2-5182-44da-954c-d0317d468a9d",
   "metadata": {},
   "outputs": [
    {
     "data": {
      "text/html": [
       "<div>\n",
       "<style scoped>\n",
       "    .dataframe tbody tr th:only-of-type {\n",
       "        vertical-align: middle;\n",
       "    }\n",
       "\n",
       "    .dataframe tbody tr th {\n",
       "        vertical-align: top;\n",
       "    }\n",
       "\n",
       "    .dataframe thead th {\n",
       "        text-align: right;\n",
       "    }\n",
       "</style>\n",
       "<table border=\"1\" class=\"dataframe\">\n",
       "  <thead>\n",
       "    <tr style=\"text-align: right;\">\n",
       "      <th></th>\n",
       "      <th>SUBJECT_ID</th>\n",
       "      <th>SESSION_ID</th>\n",
       "      <th>TRIAL_ID</th>\n",
       "      <th>c_ml_min_r</th>\n",
       "      <th>c_ml_max_r</th>\n",
       "      <th>c_ml_min_l</th>\n",
       "      <th>c_ml_max_l</th>\n",
       "      <th>c_ap_slope_r</th>\n",
       "      <th>c_ap_slope_l</th>\n",
       "      <th>g_ml_max1_r</th>\n",
       "      <th>...</th>\n",
       "      <th>g_v_max1_r</th>\n",
       "      <th>g_v_min_r</th>\n",
       "      <th>g_v_max2_r</th>\n",
       "      <th>g_v_max1_l</th>\n",
       "      <th>g_v_min_l</th>\n",
       "      <th>g_v_max2_l</th>\n",
       "      <th>AGE</th>\n",
       "      <th>BMI</th>\n",
       "      <th>CLASS_LABEL</th>\n",
       "      <th>SPEED</th>\n",
       "    </tr>\n",
       "  </thead>\n",
       "  <tbody>\n",
       "    <tr>\n",
       "      <th>0</th>\n",
       "      <td>510</td>\n",
       "      <td>413</td>\n",
       "      <td>1</td>\n",
       "      <td>0.087271</td>\n",
       "      <td>0.118247</td>\n",
       "      <td>0.087814</td>\n",
       "      <td>0.128115</td>\n",
       "      <td>0.001718</td>\n",
       "      <td>0.002493</td>\n",
       "      <td>0.072643</td>\n",
       "      <td>...</td>\n",
       "      <td>1.035925</td>\n",
       "      <td>0.818121</td>\n",
       "      <td>0.987930</td>\n",
       "      <td>1.083287</td>\n",
       "      <td>0.796622</td>\n",
       "      <td>1.003385</td>\n",
       "      <td>47</td>\n",
       "      <td>35.538442</td>\n",
       "      <td>C</td>\n",
       "      <td>2</td>\n",
       "    </tr>\n",
       "    <tr>\n",
       "      <th>1</th>\n",
       "      <td>510</td>\n",
       "      <td>413</td>\n",
       "      <td>2</td>\n",
       "      <td>0.085806</td>\n",
       "      <td>0.128396</td>\n",
       "      <td>0.040212</td>\n",
       "      <td>0.083074</td>\n",
       "      <td>0.001589</td>\n",
       "      <td>0.001834</td>\n",
       "      <td>0.072360</td>\n",
       "      <td>...</td>\n",
       "      <td>1.009803</td>\n",
       "      <td>0.819649</td>\n",
       "      <td>0.991990</td>\n",
       "      <td>1.018526</td>\n",
       "      <td>0.837006</td>\n",
       "      <td>0.999401</td>\n",
       "      <td>47</td>\n",
       "      <td>35.538442</td>\n",
       "      <td>C</td>\n",
       "      <td>2</td>\n",
       "    </tr>\n",
       "    <tr>\n",
       "      <th>2</th>\n",
       "      <td>510</td>\n",
       "      <td>413</td>\n",
       "      <td>3</td>\n",
       "      <td>0.073788</td>\n",
       "      <td>0.112735</td>\n",
       "      <td>0.049990</td>\n",
       "      <td>0.099952</td>\n",
       "      <td>0.001740</td>\n",
       "      <td>0.001734</td>\n",
       "      <td>0.059417</td>\n",
       "      <td>...</td>\n",
       "      <td>1.010970</td>\n",
       "      <td>0.823223</td>\n",
       "      <td>0.989883</td>\n",
       "      <td>1.049092</td>\n",
       "      <td>0.815221</td>\n",
       "      <td>1.003578</td>\n",
       "      <td>47</td>\n",
       "      <td>35.538442</td>\n",
       "      <td>C</td>\n",
       "      <td>2</td>\n",
       "    </tr>\n",
       "    <tr>\n",
       "      <th>3</th>\n",
       "      <td>510</td>\n",
       "      <td>413</td>\n",
       "      <td>4</td>\n",
       "      <td>0.056216</td>\n",
       "      <td>0.102832</td>\n",
       "      <td>0.086729</td>\n",
       "      <td>0.127982</td>\n",
       "      <td>0.001919</td>\n",
       "      <td>0.001361</td>\n",
       "      <td>0.079792</td>\n",
       "      <td>...</td>\n",
       "      <td>1.047625</td>\n",
       "      <td>0.797822</td>\n",
       "      <td>1.005463</td>\n",
       "      <td>1.118118</td>\n",
       "      <td>0.773203</td>\n",
       "      <td>1.021851</td>\n",
       "      <td>47</td>\n",
       "      <td>35.538442</td>\n",
       "      <td>C</td>\n",
       "      <td>2</td>\n",
       "    </tr>\n",
       "    <tr>\n",
       "      <th>4</th>\n",
       "      <td>510</td>\n",
       "      <td>413</td>\n",
       "      <td>6</td>\n",
       "      <td>0.064922</td>\n",
       "      <td>0.102404</td>\n",
       "      <td>0.000573</td>\n",
       "      <td>0.052266</td>\n",
       "      <td>0.001837</td>\n",
       "      <td>0.002049</td>\n",
       "      <td>0.059537</td>\n",
       "      <td>...</td>\n",
       "      <td>1.044787</td>\n",
       "      <td>0.780821</td>\n",
       "      <td>1.009273</td>\n",
       "      <td>1.084354</td>\n",
       "      <td>0.820851</td>\n",
       "      <td>1.027245</td>\n",
       "      <td>47</td>\n",
       "      <td>35.538442</td>\n",
       "      <td>C</td>\n",
       "      <td>2</td>\n",
       "    </tr>\n",
       "    <tr>\n",
       "      <th>...</th>\n",
       "      <td>...</td>\n",
       "      <td>...</td>\n",
       "      <td>...</td>\n",
       "      <td>...</td>\n",
       "      <td>...</td>\n",
       "      <td>...</td>\n",
       "      <td>...</td>\n",
       "      <td>...</td>\n",
       "      <td>...</td>\n",
       "      <td>...</td>\n",
       "      <td>...</td>\n",
       "      <td>...</td>\n",
       "      <td>...</td>\n",
       "      <td>...</td>\n",
       "      <td>...</td>\n",
       "      <td>...</td>\n",
       "      <td>...</td>\n",
       "      <td>...</td>\n",
       "      <td>...</td>\n",
       "      <td>...</td>\n",
       "      <td>...</td>\n",
       "    </tr>\n",
       "    <tr>\n",
       "      <th>70611</th>\n",
       "      <td>93</td>\n",
       "      <td>999910373</td>\n",
       "      <td>7</td>\n",
       "      <td>-0.019602</td>\n",
       "      <td>-0.001001</td>\n",
       "      <td>0.103706</td>\n",
       "      <td>0.140610</td>\n",
       "      <td>0.001320</td>\n",
       "      <td>0.001493</td>\n",
       "      <td>0.035459</td>\n",
       "      <td>...</td>\n",
       "      <td>1.094816</td>\n",
       "      <td>0.766321</td>\n",
       "      <td>1.150030</td>\n",
       "      <td>1.028103</td>\n",
       "      <td>0.776455</td>\n",
       "      <td>1.163370</td>\n",
       "      <td>53</td>\n",
       "      <td>21.651307</td>\n",
       "      <td>HC</td>\n",
       "      <td>2</td>\n",
       "    </tr>\n",
       "    <tr>\n",
       "      <th>70612</th>\n",
       "      <td>93</td>\n",
       "      <td>999910373</td>\n",
       "      <td>8</td>\n",
       "      <td>0.053761</td>\n",
       "      <td>0.060738</td>\n",
       "      <td>-0.024844</td>\n",
       "      <td>-0.006204</td>\n",
       "      <td>0.001334</td>\n",
       "      <td>0.002134</td>\n",
       "      <td>0.046960</td>\n",
       "      <td>...</td>\n",
       "      <td>1.164835</td>\n",
       "      <td>0.742256</td>\n",
       "      <td>1.134485</td>\n",
       "      <td>1.077298</td>\n",
       "      <td>0.753378</td>\n",
       "      <td>1.144916</td>\n",
       "      <td>53</td>\n",
       "      <td>21.651307</td>\n",
       "      <td>HC</td>\n",
       "      <td>2</td>\n",
       "    </tr>\n",
       "    <tr>\n",
       "      <th>70613</th>\n",
       "      <td>93</td>\n",
       "      <td>999910373</td>\n",
       "      <td>9</td>\n",
       "      <td>0.043214</td>\n",
       "      <td>0.068197</td>\n",
       "      <td>0.038681</td>\n",
       "      <td>0.053585</td>\n",
       "      <td>0.001676</td>\n",
       "      <td>0.001885</td>\n",
       "      <td>0.047020</td>\n",
       "      <td>...</td>\n",
       "      <td>1.174641</td>\n",
       "      <td>0.781061</td>\n",
       "      <td>1.103683</td>\n",
       "      <td>1.037734</td>\n",
       "      <td>0.764046</td>\n",
       "      <td>1.153042</td>\n",
       "      <td>53</td>\n",
       "      <td>21.651307</td>\n",
       "      <td>HC</td>\n",
       "      <td>2</td>\n",
       "    </tr>\n",
       "    <tr>\n",
       "      <th>70614</th>\n",
       "      <td>93</td>\n",
       "      <td>999910373</td>\n",
       "      <td>10</td>\n",
       "      <td>0.049181</td>\n",
       "      <td>0.060193</td>\n",
       "      <td>-0.036239</td>\n",
       "      <td>-0.007429</td>\n",
       "      <td>0.002073</td>\n",
       "      <td>0.001640</td>\n",
       "      <td>0.026953</td>\n",
       "      <td>...</td>\n",
       "      <td>1.136903</td>\n",
       "      <td>0.753482</td>\n",
       "      <td>1.167718</td>\n",
       "      <td>1.039462</td>\n",
       "      <td>0.779464</td>\n",
       "      <td>1.158905</td>\n",
       "      <td>53</td>\n",
       "      <td>21.651307</td>\n",
       "      <td>HC</td>\n",
       "      <td>2</td>\n",
       "    </tr>\n",
       "    <tr>\n",
       "      <th>70615</th>\n",
       "      <td>93</td>\n",
       "      <td>999910373</td>\n",
       "      <td>11</td>\n",
       "      <td>0.040421</td>\n",
       "      <td>0.063093</td>\n",
       "      <td>0.012097</td>\n",
       "      <td>0.026784</td>\n",
       "      <td>0.001303</td>\n",
       "      <td>0.001678</td>\n",
       "      <td>0.041747</td>\n",
       "      <td>...</td>\n",
       "      <td>1.178033</td>\n",
       "      <td>0.680349</td>\n",
       "      <td>1.185983</td>\n",
       "      <td>1.077844</td>\n",
       "      <td>0.726231</td>\n",
       "      <td>1.179667</td>\n",
       "      <td>53</td>\n",
       "      <td>21.651307</td>\n",
       "      <td>HC</td>\n",
       "      <td>2</td>\n",
       "    </tr>\n",
       "  </tbody>\n",
       "</table>\n",
       "<p>70616 rows × 29 columns</p>\n",
       "</div>"
      ],
      "text/plain": [
       "       SUBJECT_ID  SESSION_ID  TRIAL_ID  c_ml_min_r  c_ml_max_r  c_ml_min_l  \\\n",
       "0             510         413         1    0.087271    0.118247    0.087814   \n",
       "1             510         413         2    0.085806    0.128396    0.040212   \n",
       "2             510         413         3    0.073788    0.112735    0.049990   \n",
       "3             510         413         4    0.056216    0.102832    0.086729   \n",
       "4             510         413         6    0.064922    0.102404    0.000573   \n",
       "...           ...         ...       ...         ...         ...         ...   \n",
       "70611          93   999910373         7   -0.019602   -0.001001    0.103706   \n",
       "70612          93   999910373         8    0.053761    0.060738   -0.024844   \n",
       "70613          93   999910373         9    0.043214    0.068197    0.038681   \n",
       "70614          93   999910373        10    0.049181    0.060193   -0.036239   \n",
       "70615          93   999910373        11    0.040421    0.063093    0.012097   \n",
       "\n",
       "       c_ml_max_l  c_ap_slope_r  c_ap_slope_l  g_ml_max1_r  ...  g_v_max1_r  \\\n",
       "0        0.128115      0.001718      0.002493     0.072643  ...    1.035925   \n",
       "1        0.083074      0.001589      0.001834     0.072360  ...    1.009803   \n",
       "2        0.099952      0.001740      0.001734     0.059417  ...    1.010970   \n",
       "3        0.127982      0.001919      0.001361     0.079792  ...    1.047625   \n",
       "4        0.052266      0.001837      0.002049     0.059537  ...    1.044787   \n",
       "...           ...           ...           ...          ...  ...         ...   \n",
       "70611    0.140610      0.001320      0.001493     0.035459  ...    1.094816   \n",
       "70612   -0.006204      0.001334      0.002134     0.046960  ...    1.164835   \n",
       "70613    0.053585      0.001676      0.001885     0.047020  ...    1.174641   \n",
       "70614   -0.007429      0.002073      0.001640     0.026953  ...    1.136903   \n",
       "70615    0.026784      0.001303      0.001678     0.041747  ...    1.178033   \n",
       "\n",
       "       g_v_min_r  g_v_max2_r  g_v_max1_l  g_v_min_l  g_v_max2_l  AGE  \\\n",
       "0       0.818121    0.987930    1.083287   0.796622    1.003385   47   \n",
       "1       0.819649    0.991990    1.018526   0.837006    0.999401   47   \n",
       "2       0.823223    0.989883    1.049092   0.815221    1.003578   47   \n",
       "3       0.797822    1.005463    1.118118   0.773203    1.021851   47   \n",
       "4       0.780821    1.009273    1.084354   0.820851    1.027245   47   \n",
       "...          ...         ...         ...        ...         ...  ...   \n",
       "70611   0.766321    1.150030    1.028103   0.776455    1.163370   53   \n",
       "70612   0.742256    1.134485    1.077298   0.753378    1.144916   53   \n",
       "70613   0.781061    1.103683    1.037734   0.764046    1.153042   53   \n",
       "70614   0.753482    1.167718    1.039462   0.779464    1.158905   53   \n",
       "70615   0.680349    1.185983    1.077844   0.726231    1.179667   53   \n",
       "\n",
       "             BMI  CLASS_LABEL  SPEED  \n",
       "0      35.538442            C      2  \n",
       "1      35.538442            C      2  \n",
       "2      35.538442            C      2  \n",
       "3      35.538442            C      2  \n",
       "4      35.538442            C      2  \n",
       "...          ...          ...    ...  \n",
       "70611  21.651307           HC      2  \n",
       "70612  21.651307           HC      2  \n",
       "70613  21.651307           HC      2  \n",
       "70614  21.651307           HC      2  \n",
       "70615  21.651307           HC      2  \n",
       "\n",
       "[70616 rows x 29 columns]"
      ]
     },
     "execution_count": 2,
     "metadata": {},
     "output_type": "execute_result"
    }
   ],
   "source": [
    "df = pd.read_csv('../data/features_engineered.csv', encoding='utf-8')\n",
    "df"
   ]
  },
  {
   "cell_type": "code",
   "execution_count": 3,
   "id": "d60bffeb-87c7-458d-b9e9-a1e3aef5f685",
   "metadata": {},
   "outputs": [
    {
     "data": {
      "text/plain": [
       "BMI    26992\n",
       "dtype: int64"
      ]
     },
     "execution_count": 3,
     "metadata": {},
     "output_type": "execute_result"
    }
   ],
   "source": [
    "df.isna().sum().loc[lambda x : x>0].sort_values(ascending=False)"
   ]
  },
  {
   "cell_type": "code",
   "execution_count": 4,
   "id": "40e4e0f6-77b0-4405-9d2b-e2660925e695",
   "metadata": {},
   "outputs": [],
   "source": [
    "df.dropna(inplace=True)"
   ]
  },
  {
   "cell_type": "code",
   "execution_count": 5,
   "id": "1cf9d312-a03f-4db0-8182-74212d6ce544",
   "metadata": {},
   "outputs": [
    {
     "data": {
      "text/plain": [
       "(43624, 29)"
      ]
     },
     "execution_count": 5,
     "metadata": {},
     "output_type": "execute_result"
    }
   ],
   "source": [
    "df.shape"
   ]
  },
  {
   "cell_type": "code",
   "execution_count": 6,
   "id": "31787c19-e81f-4007-a7d0-6d66e2614646",
   "metadata": {
    "scrolled": true,
    "tags": []
   },
   "outputs": [
    {
     "data": {
      "text/plain": [
       "Index(['SUBJECT_ID', 'SESSION_ID', 'TRIAL_ID', 'c_ml_min_r', 'c_ml_max_r',\n",
       "       'c_ml_min_l', 'c_ml_max_l', 'c_ap_slope_r', 'c_ap_slope_l',\n",
       "       'g_ml_max1_r', 'g_ml_min_r', 'g_ml_max2_r', 'g_ml_max1_l', 'g_ml_min_l',\n",
       "       'g_ml_max2_l', 'g_ap_min_r', 'g_ap_max_r', 'g_ap_min_l', 'g_ap_max_l',\n",
       "       'g_v_max1_r', 'g_v_min_r', 'g_v_max2_r', 'g_v_max1_l', 'g_v_min_l',\n",
       "       'g_v_max2_l', 'AGE', 'BMI', 'CLASS_LABEL', 'SPEED'],\n",
       "      dtype='object')"
      ]
     },
     "execution_count": 6,
     "metadata": {},
     "output_type": "execute_result"
    }
   ],
   "source": [
    "df.columns"
   ]
  },
  {
   "cell_type": "markdown",
   "id": "131398b3-b270-45bc-9d5c-c7cb0c905e44",
   "metadata": {},
   "source": [
    "### SVN"
   ]
  },
  {
   "cell_type": "code",
   "execution_count": 7,
   "id": "31d52533-ffb7-4934-827a-b10703290df6",
   "metadata": {},
   "outputs": [],
   "source": [
    "# https://scikit-learn.org/0.18/auto_examples/svm/plot_iris.html\n",
    "# https://stackoverflow.com/questions/36232334/plotting-3d-decision-boundary-from-linear-svm"
   ]
  },
  {
   "cell_type": "code",
   "execution_count": 8,
   "id": "5e0e998b-5085-4896-afc2-45071179f38d",
   "metadata": {},
   "outputs": [
    {
     "data": {
      "text/plain": [
       "0         C\n",
       "1         C\n",
       "2         C\n",
       "3         C\n",
       "4         C\n",
       "         ..\n",
       "70611    HC\n",
       "70612    HC\n",
       "70613    HC\n",
       "70614    HC\n",
       "70615    HC\n",
       "Name: CLASS_LABEL, Length: 43624, dtype: object"
      ]
     },
     "execution_count": 8,
     "metadata": {},
     "output_type": "execute_result"
    }
   ],
   "source": [
    "#prepare the data\n",
    "X= df[['c_ml_min_r', 'c_ml_max_r',\n",
    "       'c_ml_min_l', 'c_ml_max_l', 'c_ap_slope_r', 'c_ap_slope_l',\n",
    "       'g_ml_max1_r', 'g_ml_min_r', 'g_ml_max2_r', 'g_ml_max1_l', 'g_ml_min_l',\n",
    "       'g_ml_max2_l', 'g_ap_min_r', 'g_ap_max_r', 'g_ap_min_l', 'g_ap_max_l',\n",
    "       'g_v_max1_r', 'g_v_min_r', 'g_v_max2_r', 'g_v_max1_l', 'g_v_min_l',\n",
    "       'g_v_max2_l','AGE','BMI']]\n",
    "y = df['CLASS_LABEL']\n",
    "y"
   ]
  },
  {
   "cell_type": "code",
   "execution_count": 9,
   "id": "30528fc6-67e3-4202-ab69-6362fd9f8f7b",
   "metadata": {},
   "outputs": [],
   "source": [
    "numeric_features = ['c_ml_min_r', 'c_ml_max_r',\n",
    "       'c_ml_min_l', 'c_ml_max_l', 'c_ap_slope_r', 'c_ap_slope_l',\n",
    "       'g_ml_max1_r', 'g_ml_min_r', 'g_ml_max2_r', 'g_ml_max1_l', 'g_ml_min_l',\n",
    "       'g_ml_max2_l', 'g_ap_min_r', 'g_ap_max_r', 'g_ap_min_l', 'g_ap_max_l',\n",
    "       'g_v_max1_r', 'g_v_min_r', 'g_v_max2_r', 'g_v_max1_l', 'g_v_min_l',\n",
    "       'g_v_max2_l','AGE','BMI']\n",
    "numeric_transformer = Pipeline(\n",
    "    steps=[(\"imputer\", SimpleImputer(strategy=\"median\")), (\"scaler\", StandardScaler())]\n",
    ")\n",
    "\n",
    "categorical_features = []\n",
    "categorical_transformer = Pipeline(\n",
    "    steps=[(\"encoder\", OneHotEncoder(handle_unknown=\"ignore\"))]\n",
    ")\n",
    "\n",
    "preprocessor = ColumnTransformer(\n",
    "    transformers=[\n",
    "        (\"num\", numeric_transformer, numeric_features),\n",
    "        (\"cat\", categorical_transformer, categorical_features),\n",
    "    ]\n",
    ")\n",
    "\n",
    "clf = Pipeline(\n",
    "    steps=[(\"preprocessor\", preprocessor), \n",
    "           (\"classifier\", SVC(gamma='auto',kernel = \"rbf\", C=10))]\n",
    ")"
   ]
  },
  {
   "cell_type": "code",
   "execution_count": 10,
   "id": "ccc43db8-8948-4527-ad5e-0cdec279df09",
   "metadata": {},
   "outputs": [],
   "source": [
    "X_train, X_test, y_train, y_test = train_test_split(X, y, test_size=0.25, random_state=42,stratify=y)"
   ]
  },
  {
   "cell_type": "code",
   "execution_count": 11,
   "id": "92ad0781-6974-4fbf-98fe-f4419b0ce893",
   "metadata": {},
   "outputs": [
    {
     "data": {
      "text/plain": [
       "(32718, 24)"
      ]
     },
     "execution_count": 11,
     "metadata": {},
     "output_type": "execute_result"
    }
   ],
   "source": [
    "X_train.shape"
   ]
  },
  {
   "cell_type": "code",
   "execution_count": 12,
   "id": "94afcb43-2e6c-48d9-9aab-3c26123a7661",
   "metadata": {},
   "outputs": [
    {
     "name": "stdout",
     "output_type": "stream",
     "text": [
      "CPU times: total: 2min\n",
      "Wall time: 2min 21s\n"
     ]
    },
    {
     "data": {
      "text/html": [
       "<style>#sk-container-id-1 {color: black;background-color: white;}#sk-container-id-1 pre{padding: 0;}#sk-container-id-1 div.sk-toggleable {background-color: white;}#sk-container-id-1 label.sk-toggleable__label {cursor: pointer;display: block;width: 100%;margin-bottom: 0;padding: 0.3em;box-sizing: border-box;text-align: center;}#sk-container-id-1 label.sk-toggleable__label-arrow:before {content: \"▸\";float: left;margin-right: 0.25em;color: #696969;}#sk-container-id-1 label.sk-toggleable__label-arrow:hover:before {color: black;}#sk-container-id-1 div.sk-estimator:hover label.sk-toggleable__label-arrow:before {color: black;}#sk-container-id-1 div.sk-toggleable__content {max-height: 0;max-width: 0;overflow: hidden;text-align: left;background-color: #f0f8ff;}#sk-container-id-1 div.sk-toggleable__content pre {margin: 0.2em;color: black;border-radius: 0.25em;background-color: #f0f8ff;}#sk-container-id-1 input.sk-toggleable__control:checked~div.sk-toggleable__content {max-height: 200px;max-width: 100%;overflow: auto;}#sk-container-id-1 input.sk-toggleable__control:checked~label.sk-toggleable__label-arrow:before {content: \"▾\";}#sk-container-id-1 div.sk-estimator input.sk-toggleable__control:checked~label.sk-toggleable__label {background-color: #d4ebff;}#sk-container-id-1 div.sk-label input.sk-toggleable__control:checked~label.sk-toggleable__label {background-color: #d4ebff;}#sk-container-id-1 input.sk-hidden--visually {border: 0;clip: rect(1px 1px 1px 1px);clip: rect(1px, 1px, 1px, 1px);height: 1px;margin: -1px;overflow: hidden;padding: 0;position: absolute;width: 1px;}#sk-container-id-1 div.sk-estimator {font-family: monospace;background-color: #f0f8ff;border: 1px dotted black;border-radius: 0.25em;box-sizing: border-box;margin-bottom: 0.5em;}#sk-container-id-1 div.sk-estimator:hover {background-color: #d4ebff;}#sk-container-id-1 div.sk-parallel-item::after {content: \"\";width: 100%;border-bottom: 1px solid gray;flex-grow: 1;}#sk-container-id-1 div.sk-label:hover label.sk-toggleable__label {background-color: #d4ebff;}#sk-container-id-1 div.sk-serial::before {content: \"\";position: absolute;border-left: 1px solid gray;box-sizing: border-box;top: 0;bottom: 0;left: 50%;z-index: 0;}#sk-container-id-1 div.sk-serial {display: flex;flex-direction: column;align-items: center;background-color: white;padding-right: 0.2em;padding-left: 0.2em;position: relative;}#sk-container-id-1 div.sk-item {position: relative;z-index: 1;}#sk-container-id-1 div.sk-parallel {display: flex;align-items: stretch;justify-content: center;background-color: white;position: relative;}#sk-container-id-1 div.sk-item::before, #sk-container-id-1 div.sk-parallel-item::before {content: \"\";position: absolute;border-left: 1px solid gray;box-sizing: border-box;top: 0;bottom: 0;left: 50%;z-index: -1;}#sk-container-id-1 div.sk-parallel-item {display: flex;flex-direction: column;z-index: 1;position: relative;background-color: white;}#sk-container-id-1 div.sk-parallel-item:first-child::after {align-self: flex-end;width: 50%;}#sk-container-id-1 div.sk-parallel-item:last-child::after {align-self: flex-start;width: 50%;}#sk-container-id-1 div.sk-parallel-item:only-child::after {width: 0;}#sk-container-id-1 div.sk-dashed-wrapped {border: 1px dashed gray;margin: 0 0.4em 0.5em 0.4em;box-sizing: border-box;padding-bottom: 0.4em;background-color: white;}#sk-container-id-1 div.sk-label label {font-family: monospace;font-weight: bold;display: inline-block;line-height: 1.2em;}#sk-container-id-1 div.sk-label-container {text-align: center;}#sk-container-id-1 div.sk-container {/* jupyter's `normalize.less` sets `[hidden] { display: none; }` but bootstrap.min.css set `[hidden] { display: none !important; }` so we also need the `!important` here to be able to override the default hidden behavior on the sphinx rendered scikit-learn.org. See: https://github.com/scikit-learn/scikit-learn/issues/21755 */display: inline-block !important;position: relative;}#sk-container-id-1 div.sk-text-repr-fallback {display: none;}</style><div id=\"sk-container-id-1\" class=\"sk-top-container\"><div class=\"sk-text-repr-fallback\"><pre>Pipeline(steps=[(&#x27;preprocessor&#x27;,\n",
       "                 ColumnTransformer(transformers=[(&#x27;num&#x27;,\n",
       "                                                  Pipeline(steps=[(&#x27;imputer&#x27;,\n",
       "                                                                   SimpleImputer(strategy=&#x27;median&#x27;)),\n",
       "                                                                  (&#x27;scaler&#x27;,\n",
       "                                                                   StandardScaler())]),\n",
       "                                                  [&#x27;c_ml_min_r&#x27;, &#x27;c_ml_max_r&#x27;,\n",
       "                                                   &#x27;c_ml_min_l&#x27;, &#x27;c_ml_max_l&#x27;,\n",
       "                                                   &#x27;c_ap_slope_r&#x27;,\n",
       "                                                   &#x27;c_ap_slope_l&#x27;,\n",
       "                                                   &#x27;g_ml_max1_r&#x27;, &#x27;g_ml_min_r&#x27;,\n",
       "                                                   &#x27;g_ml_max2_r&#x27;, &#x27;g_ml_max1_l&#x27;,\n",
       "                                                   &#x27;g_ml_min_l&#x27;, &#x27;g_ml_max2_l&#x27;,\n",
       "                                                   &#x27;g_ap_min_r&#x27;, &#x27;g_ap_max_r&#x27;,\n",
       "                                                   &#x27;g_ap_min_l&#x27;, &#x27;g_ap_max_l&#x27;,\n",
       "                                                   &#x27;g_v_max1_r&#x27;, &#x27;g_v_min_r&#x27;,\n",
       "                                                   &#x27;g_v_max2_r&#x27;, &#x27;g_v_max1_l&#x27;,\n",
       "                                                   &#x27;g_v_min_l&#x27;, &#x27;g_v_max2_l&#x27;,\n",
       "                                                   &#x27;AGE&#x27;, &#x27;BMI&#x27;]),\n",
       "                                                 (&#x27;cat&#x27;,\n",
       "                                                  Pipeline(steps=[(&#x27;encoder&#x27;,\n",
       "                                                                   OneHotEncoder(handle_unknown=&#x27;ignore&#x27;))]),\n",
       "                                                  [])])),\n",
       "                (&#x27;classifier&#x27;, SVC(C=10, gamma=&#x27;auto&#x27;))])</pre><b>In a Jupyter environment, please rerun this cell to show the HTML representation or trust the notebook. <br />On GitHub, the HTML representation is unable to render, please try loading this page with nbviewer.org.</b></div><div class=\"sk-container\" hidden><div class=\"sk-item sk-dashed-wrapped\"><div class=\"sk-label-container\"><div class=\"sk-label sk-toggleable\"><input class=\"sk-toggleable__control sk-hidden--visually\" id=\"sk-estimator-id-1\" type=\"checkbox\" ><label for=\"sk-estimator-id-1\" class=\"sk-toggleable__label sk-toggleable__label-arrow\">Pipeline</label><div class=\"sk-toggleable__content\"><pre>Pipeline(steps=[(&#x27;preprocessor&#x27;,\n",
       "                 ColumnTransformer(transformers=[(&#x27;num&#x27;,\n",
       "                                                  Pipeline(steps=[(&#x27;imputer&#x27;,\n",
       "                                                                   SimpleImputer(strategy=&#x27;median&#x27;)),\n",
       "                                                                  (&#x27;scaler&#x27;,\n",
       "                                                                   StandardScaler())]),\n",
       "                                                  [&#x27;c_ml_min_r&#x27;, &#x27;c_ml_max_r&#x27;,\n",
       "                                                   &#x27;c_ml_min_l&#x27;, &#x27;c_ml_max_l&#x27;,\n",
       "                                                   &#x27;c_ap_slope_r&#x27;,\n",
       "                                                   &#x27;c_ap_slope_l&#x27;,\n",
       "                                                   &#x27;g_ml_max1_r&#x27;, &#x27;g_ml_min_r&#x27;,\n",
       "                                                   &#x27;g_ml_max2_r&#x27;, &#x27;g_ml_max1_l&#x27;,\n",
       "                                                   &#x27;g_ml_min_l&#x27;, &#x27;g_ml_max2_l&#x27;,\n",
       "                                                   &#x27;g_ap_min_r&#x27;, &#x27;g_ap_max_r&#x27;,\n",
       "                                                   &#x27;g_ap_min_l&#x27;, &#x27;g_ap_max_l&#x27;,\n",
       "                                                   &#x27;g_v_max1_r&#x27;, &#x27;g_v_min_r&#x27;,\n",
       "                                                   &#x27;g_v_max2_r&#x27;, &#x27;g_v_max1_l&#x27;,\n",
       "                                                   &#x27;g_v_min_l&#x27;, &#x27;g_v_max2_l&#x27;,\n",
       "                                                   &#x27;AGE&#x27;, &#x27;BMI&#x27;]),\n",
       "                                                 (&#x27;cat&#x27;,\n",
       "                                                  Pipeline(steps=[(&#x27;encoder&#x27;,\n",
       "                                                                   OneHotEncoder(handle_unknown=&#x27;ignore&#x27;))]),\n",
       "                                                  [])])),\n",
       "                (&#x27;classifier&#x27;, SVC(C=10, gamma=&#x27;auto&#x27;))])</pre></div></div></div><div class=\"sk-serial\"><div class=\"sk-item sk-dashed-wrapped\"><div class=\"sk-label-container\"><div class=\"sk-label sk-toggleable\"><input class=\"sk-toggleable__control sk-hidden--visually\" id=\"sk-estimator-id-2\" type=\"checkbox\" ><label for=\"sk-estimator-id-2\" class=\"sk-toggleable__label sk-toggleable__label-arrow\">preprocessor: ColumnTransformer</label><div class=\"sk-toggleable__content\"><pre>ColumnTransformer(transformers=[(&#x27;num&#x27;,\n",
       "                                 Pipeline(steps=[(&#x27;imputer&#x27;,\n",
       "                                                  SimpleImputer(strategy=&#x27;median&#x27;)),\n",
       "                                                 (&#x27;scaler&#x27;, StandardScaler())]),\n",
       "                                 [&#x27;c_ml_min_r&#x27;, &#x27;c_ml_max_r&#x27;, &#x27;c_ml_min_l&#x27;,\n",
       "                                  &#x27;c_ml_max_l&#x27;, &#x27;c_ap_slope_r&#x27;, &#x27;c_ap_slope_l&#x27;,\n",
       "                                  &#x27;g_ml_max1_r&#x27;, &#x27;g_ml_min_r&#x27;, &#x27;g_ml_max2_r&#x27;,\n",
       "                                  &#x27;g_ml_max1_l&#x27;, &#x27;g_ml_min_l&#x27;, &#x27;g_ml_max2_l&#x27;,\n",
       "                                  &#x27;g_ap_min_r&#x27;, &#x27;g_ap_max_r&#x27;, &#x27;g_ap_min_l&#x27;,\n",
       "                                  &#x27;g_ap_max_l&#x27;, &#x27;g_v_max1_r&#x27;, &#x27;g_v_min_r&#x27;,\n",
       "                                  &#x27;g_v_max2_r&#x27;, &#x27;g_v_max1_l&#x27;, &#x27;g_v_min_l&#x27;,\n",
       "                                  &#x27;g_v_max2_l&#x27;, &#x27;AGE&#x27;, &#x27;BMI&#x27;]),\n",
       "                                (&#x27;cat&#x27;,\n",
       "                                 Pipeline(steps=[(&#x27;encoder&#x27;,\n",
       "                                                  OneHotEncoder(handle_unknown=&#x27;ignore&#x27;))]),\n",
       "                                 [])])</pre></div></div></div><div class=\"sk-parallel\"><div class=\"sk-parallel-item\"><div class=\"sk-item\"><div class=\"sk-label-container\"><div class=\"sk-label sk-toggleable\"><input class=\"sk-toggleable__control sk-hidden--visually\" id=\"sk-estimator-id-3\" type=\"checkbox\" ><label for=\"sk-estimator-id-3\" class=\"sk-toggleable__label sk-toggleable__label-arrow\">num</label><div class=\"sk-toggleable__content\"><pre>[&#x27;c_ml_min_r&#x27;, &#x27;c_ml_max_r&#x27;, &#x27;c_ml_min_l&#x27;, &#x27;c_ml_max_l&#x27;, &#x27;c_ap_slope_r&#x27;, &#x27;c_ap_slope_l&#x27;, &#x27;g_ml_max1_r&#x27;, &#x27;g_ml_min_r&#x27;, &#x27;g_ml_max2_r&#x27;, &#x27;g_ml_max1_l&#x27;, &#x27;g_ml_min_l&#x27;, &#x27;g_ml_max2_l&#x27;, &#x27;g_ap_min_r&#x27;, &#x27;g_ap_max_r&#x27;, &#x27;g_ap_min_l&#x27;, &#x27;g_ap_max_l&#x27;, &#x27;g_v_max1_r&#x27;, &#x27;g_v_min_r&#x27;, &#x27;g_v_max2_r&#x27;, &#x27;g_v_max1_l&#x27;, &#x27;g_v_min_l&#x27;, &#x27;g_v_max2_l&#x27;, &#x27;AGE&#x27;, &#x27;BMI&#x27;]</pre></div></div></div><div class=\"sk-serial\"><div class=\"sk-item\"><div class=\"sk-serial\"><div class=\"sk-item\"><div class=\"sk-estimator sk-toggleable\"><input class=\"sk-toggleable__control sk-hidden--visually\" id=\"sk-estimator-id-4\" type=\"checkbox\" ><label for=\"sk-estimator-id-4\" class=\"sk-toggleable__label sk-toggleable__label-arrow\">SimpleImputer</label><div class=\"sk-toggleable__content\"><pre>SimpleImputer(strategy=&#x27;median&#x27;)</pre></div></div></div><div class=\"sk-item\"><div class=\"sk-estimator sk-toggleable\"><input class=\"sk-toggleable__control sk-hidden--visually\" id=\"sk-estimator-id-5\" type=\"checkbox\" ><label for=\"sk-estimator-id-5\" class=\"sk-toggleable__label sk-toggleable__label-arrow\">StandardScaler</label><div class=\"sk-toggleable__content\"><pre>StandardScaler()</pre></div></div></div></div></div></div></div></div><div class=\"sk-parallel-item\"><div class=\"sk-item\"><div class=\"sk-label-container\"><div class=\"sk-label sk-toggleable\"><input class=\"sk-toggleable__control sk-hidden--visually\" id=\"sk-estimator-id-6\" type=\"checkbox\" ><label for=\"sk-estimator-id-6\" class=\"sk-toggleable__label sk-toggleable__label-arrow\">cat</label><div class=\"sk-toggleable__content\"><pre>[]</pre></div></div></div><div class=\"sk-serial\"><div class=\"sk-item\"><div class=\"sk-serial\"><div class=\"sk-item\"><div class=\"sk-estimator sk-toggleable\"><input class=\"sk-toggleable__control sk-hidden--visually\" id=\"sk-estimator-id-7\" type=\"checkbox\" ><label for=\"sk-estimator-id-7\" class=\"sk-toggleable__label sk-toggleable__label-arrow\">OneHotEncoder</label><div class=\"sk-toggleable__content\"><pre>OneHotEncoder(handle_unknown=&#x27;ignore&#x27;)</pre></div></div></div></div></div></div></div></div></div></div><div class=\"sk-item\"><div class=\"sk-estimator sk-toggleable\"><input class=\"sk-toggleable__control sk-hidden--visually\" id=\"sk-estimator-id-8\" type=\"checkbox\" ><label for=\"sk-estimator-id-8\" class=\"sk-toggleable__label sk-toggleable__label-arrow\">SVC</label><div class=\"sk-toggleable__content\"><pre>SVC(C=10, gamma=&#x27;auto&#x27;)</pre></div></div></div></div></div></div></div>"
      ],
      "text/plain": [
       "Pipeline(steps=[('preprocessor',\n",
       "                 ColumnTransformer(transformers=[('num',\n",
       "                                                  Pipeline(steps=[('imputer',\n",
       "                                                                   SimpleImputer(strategy='median')),\n",
       "                                                                  ('scaler',\n",
       "                                                                   StandardScaler())]),\n",
       "                                                  ['c_ml_min_r', 'c_ml_max_r',\n",
       "                                                   'c_ml_min_l', 'c_ml_max_l',\n",
       "                                                   'c_ap_slope_r',\n",
       "                                                   'c_ap_slope_l',\n",
       "                                                   'g_ml_max1_r', 'g_ml_min_r',\n",
       "                                                   'g_ml_max2_r', 'g_ml_max1_l',\n",
       "                                                   'g_ml_min_l', 'g_ml_max2_l',\n",
       "                                                   'g_ap_min_r', 'g_ap_max_r',\n",
       "                                                   'g_ap_min_l', 'g_ap_max_l',\n",
       "                                                   'g_v_max1_r', 'g_v_min_r',\n",
       "                                                   'g_v_max2_r', 'g_v_max1_l',\n",
       "                                                   'g_v_min_l', 'g_v_max2_l',\n",
       "                                                   'AGE', 'BMI']),\n",
       "                                                 ('cat',\n",
       "                                                  Pipeline(steps=[('encoder',\n",
       "                                                                   OneHotEncoder(handle_unknown='ignore'))]),\n",
       "                                                  [])])),\n",
       "                ('classifier', SVC(C=10, gamma='auto'))])"
      ]
     },
     "execution_count": 12,
     "metadata": {},
     "output_type": "execute_result"
    }
   ],
   "source": [
    "%%time\n",
    "clf.fit(X_train, y_train)"
   ]
  },
  {
   "cell_type": "code",
   "execution_count": 13,
   "id": "14641b06-3513-4ceb-b8e6-41713bd260ff",
   "metadata": {},
   "outputs": [
    {
     "name": "stdout",
     "output_type": "stream",
     "text": [
      "Score on training set: 0.9344091937159973\n",
      "Score on testing set: 0.8299101412066753\n",
      "CPU times: total: 1min 56s\n",
      "Wall time: 2min\n"
     ]
    }
   ],
   "source": [
    "%%time\n",
    "print(f'Score on training set: {clf.score(X_train, y_train)}')\n",
    "print(f'Score on testing set: {clf.score(X_test, y_test)}')"
   ]
  },
  {
   "cell_type": "code",
   "execution_count": 14,
   "id": "7b62101c-15f9-4c35-a0c3-c69a58abcab4",
   "metadata": {},
   "outputs": [
    {
     "data": {
      "text/plain": [
       "array(['A', 'HC', 'A', ..., 'A', 'K', 'HC'], dtype=object)"
      ]
     },
     "execution_count": 14,
     "metadata": {},
     "output_type": "execute_result"
    }
   ],
   "source": [
    "pred = clf.predict(X_test)\n",
    "pred"
   ]
  },
  {
   "cell_type": "code",
   "execution_count": 15,
   "id": "3c71a9ba-a4c7-49b3-9082-6770d9aa805c",
   "metadata": {},
   "outputs": [
    {
     "name": "stdout",
     "output_type": "stream",
     "text": [
      "[[3354  134   73   49  253]\n",
      " [ 233 1587   20   11   53]\n",
      " [ 140   21 1308   35  131]\n",
      " [  81    7   33  470   69]\n",
      " [ 279   57  128   48 2332]]\n"
     ]
    }
   ],
   "source": [
    "#Create confusion matrix\n",
    "cm = confusion_matrix(y_test, pred)\n",
    "print(cm)"
   ]
  },
  {
   "cell_type": "code",
   "execution_count": 16,
   "id": "a39d7490-1f07-49e3-8d31-1f334823242d",
   "metadata": {},
   "outputs": [
    {
     "data": {
      "text/plain": [
       "array(['A', 'C', 'H', 'HC', 'K'], dtype=object)"
      ]
     },
     "execution_count": 16,
     "metadata": {},
     "output_type": "execute_result"
    }
   ],
   "source": [
    "clf.classes_"
   ]
  },
  {
   "cell_type": "code",
   "execution_count": 17,
   "id": "55f8c303-ee9f-4cda-b6f3-381e612167ca",
   "metadata": {},
   "outputs": [
    {
     "data": {
      "image/png": "[encoded data removed]",
      "text/plain": [
       "<Figure size 640x480 with 2 Axes>"
      ]
     },
     "metadata": {},
     "output_type": "display_data"
    }
   ],
   "source": [
    "ax= plt.subplot()\n",
    "sns.heatmap(cm, annot=True, fmt='g', ax=ax, cmap=sns.color_palette(\"coolwarm\", 8), linewidths=1, linecolor='w');\n",
    "ax.set_xlabel('Predicted labels');ax.set_ylabel('True labels'); \n",
    "ax.set_title('Confusion Matrix For SVM with Radial Kernel'); \n",
    "ax.xaxis.set_ticklabels(clf.classes_); \n",
    "ax.yaxis.set_ticklabels(clf.classes_);"
   ]
  },
  {
   "cell_type": "code",
   "execution_count": 19,
   "id": "6748f81e-1825-4d7b-b73a-ad5fe0a46014",
   "metadata": {},
   "outputs": [
    {
     "data": {
      "text/plain": [
       "0.8299101412066753"
      ]
     },
     "execution_count": 19,
     "metadata": {},
     "output_type": "execute_result"
    }
   ],
   "source": [
    "accuracy_score(y_test,pred)"
   ]
  },
  {
   "cell_type": "code",
   "execution_count": 20,
   "id": "f28cc34c-c7b3-4383-9ae6-8b8c6ad2a733",
   "metadata": {},
   "outputs": [],
   "source": [
    "def confusion_matrix_metrics(cls, cm):\n",
    "    TP = cm[cls, cls]\n",
    "    FN = cm[cls].sum() - TP\n",
    "    FP = cm[:, cls].sum() - TP\n",
    "    TN = cm.sum() - TP - FN - FP\n",
    "    return np.array([[TP, FN], [FP, TN]])"
   ]
  },
  {
   "cell_type": "code",
   "execution_count": 23,
   "id": "6d33d754-ab38-472a-ac96-cf27ddf1629a",
   "metadata": {},
   "outputs": [
    {
     "name": "stdout",
     "output_type": "stream",
     "text": [
      "[Class A vs others]\n",
      "TP: 3354, FN: 509, FP: 733, TN: 6310\n",
      "[Class C vs others]\n",
      "TP: 1587, FN: 317, FP: 219, TN: 8783\n",
      "[Class H vs others]\n",
      "TP: 1308, FN: 327, FP: 254, TN: 9017\n",
      "[Class HC vs others]\n",
      "TP: 470, FN: 190, FP: 143, TN: 10103\n",
      "[Class K vs others]\n",
      "TP: 2332, FN: 512, FP: 506, TN: 7556\n"
     ]
    }
   ],
   "source": [
    "for cls in range(cm.shape[0]):\n",
    "    print(f'[Class {clf.classes_[cls]} vs others]')\n",
    "    TP, FN, FP, TN = confusion_matrix_metrics(cls, cm).ravel()\n",
    "    print(f'TP: {TP}, FN: {FN}, FP: {FP}, TN: {TN}')"
   ]
  },
  {
   "cell_type": "code",
   "execution_count": 28,
   "id": "3f25adbf-833b-41a5-9438-afc9a891b2df",
   "metadata": {},
   "outputs": [
    {
     "name": "stdout",
     "output_type": "stream",
     "text": [
      "              precision    recall  f1-score   support\n",
      "\n",
      "           A       0.82      0.87      0.84      3863\n",
      "           C       0.88      0.83      0.86      1904\n",
      "           H       0.84      0.80      0.82      1635\n",
      "          HC       0.77      0.71      0.74       660\n",
      "           K       0.82      0.82      0.82      2844\n",
      "\n",
      "    accuracy                           0.83     10906\n",
      "   macro avg       0.83      0.81      0.82     10906\n",
      "weighted avg       0.83      0.83      0.83     10906\n",
      "\n"
     ]
    }
   ],
   "source": [
    "print(classification_report(y_test, pred,target_names=clf.classes_))"
   ]
  },
  {
   "cell_type": "markdown",
   "id": "408f7f58-3311-4516-8cdd-2a28cbea1979",
   "metadata": {},
   "source": [
    "## Grid search"
   ]
  },
  {
   "cell_type": "code",
   "execution_count": 27,
   "id": "d82f7211-5733-4477-b74b-c26a0656d47e",
   "metadata": {},
   "outputs": [
    {
     "data": {
      "text/plain": [
       "{'classifier__gamma': array([1.e-09, 1.e-08, 1.e-07, 1.e-06, 1.e-05, 1.e-04, 1.e-03, 1.e-02,\n",
       "        1.e-01, 1.e+00, 1.e+01, 1.e+02, 1.e+03]),\n",
       " 'classifier__C': array([1.e-02, 1.e-01, 1.e+00, 1.e+01, 1.e+02, 1.e+03, 1.e+04, 1.e+05,\n",
       "        1.e+06, 1.e+07, 1.e+08, 1.e+09, 1.e+10])}"
      ]
     },
     "execution_count": 27,
     "metadata": {},
     "output_type": "execute_result"
    }
   ],
   "source": [
    "dict(classifier__gamma=gamma_range, classifier__C=C_range)"
   ]
  },
  {
   "cell_type": "code",
   "execution_count": null,
   "id": "09190b78-f0b0-45b1-854e-e59ebcc83af2",
   "metadata": {
    "scrolled": true,
    "tags": []
   },
   "outputs": [],
   "source": [
    "%%time\n",
    "C_range = np.logspace(-2, 10, 13)\n",
    "gamma_range = np.logspace(-9, 3, 13)\n",
    "param_grid = dict(classifier__gamma=gamma_range, classifier__C=C_range)\n",
    "cv = StratifiedShuffleSplit(n_splits=5, test_size=0.2, random_state=42)\n",
    "gs_svc = GridSearchCV(estimator = clf,\n",
    "                    param_grid = param_grid,\n",
    "                    cv=cv)\n",
    "gs_svc.fit(X_train, y_train)"
   ]
  },
  {
   "cell_type": "code",
   "execution_count": null,
   "id": "9ac32bbe-12d3-4aa8-9e62-14644c9d61ee",
   "metadata": {},
   "outputs": [],
   "source": [
    "%%time\n",
    "print(\"Best params:\")\n",
    "print(gs_svc.best_params_)\n",
    "print(f\"Training CV score: {gs_svc.best_score_:.3f}\")"
   ]
  },
  {
   "cell_type": "code",
   "execution_count": null,
   "id": "5faac75f-500f-4eb7-9426-a6f9a2f66552",
   "metadata": {},
   "outputs": [],
   "source": []
  }
 ],
 "metadata": {
  "kernelspec": {
   "display_name": "dsi-sg",
   "language": "python",
   "name": "dsi-sg"
  },
  "language_info": {
   "codemirror_mode": {
    "name": "ipython",
    "version": 3
   },
   "file_extension": ".py",
   "mimetype": "text/x-python",
   "name": "python",
   "nbconvert_exporter": "python",
   "pygments_lexer": "ipython3",
   "version": "3.9.16"
  }
 },
 "nbformat": 4,
 "nbformat_minor": 5
}
